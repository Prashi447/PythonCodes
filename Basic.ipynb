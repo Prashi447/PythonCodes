{
  "cells": [
    {
      "cell_type": "markdown",
      "metadata": {
        "id": "view-in-github",
        "colab_type": "text"
      },
      "source": [
        "<a href=\"https://colab.research.google.com/github/Prashi447/PythonCodes/blob/main/Basic.ipynb\" target=\"_parent\"><img src=\"https://colab.research.google.com/assets/colab-badge.svg\" alt=\"Open In Colab\"/></a>"
      ]
    },
    {
      "cell_type": "code",
      "execution_count": null,
      "id": "e1f0baf2-0369-4b66-8430-390cad245729",
      "metadata": {
        "tags": [],
        "id": "e1f0baf2-0369-4b66-8430-390cad245729",
        "outputId": "860b2377-d899-4284-d40f-522b474aafac"
      },
      "outputs": [
        {
          "name": "stdout",
          "output_type": "stream",
          "text": [
            "Hello world\n"
          ]
        }
      ],
      "source": [
        "print(\"Hello world\")"
      ]
    },
    {
      "cell_type": "code",
      "execution_count": null,
      "id": "420ebea2-2d04-40a0-bf6c-41e7d902e317",
      "metadata": {
        "tags": [],
        "id": "420ebea2-2d04-40a0-bf6c-41e7d902e317"
      },
      "outputs": [],
      "source": [
        "x=input()"
      ]
    },
    {
      "cell_type": "code",
      "execution_count": null,
      "id": "ad658448-f298-42df-8ac1-3462074d76bc",
      "metadata": {
        "tags": [],
        "id": "ad658448-f298-42df-8ac1-3462074d76bc"
      },
      "outputs": [],
      "source": [
        "print(x)"
      ]
    },
    {
      "cell_type": "code",
      "execution_count": null,
      "id": "d8b6e134-d132-4c20-9551-dee753d37c44",
      "metadata": {
        "tags": [],
        "id": "d8b6e134-d132-4c20-9551-dee753d37c44"
      },
      "outputs": [],
      "source": [
        "print(type(x))"
      ]
    },
    {
      "cell_type": "code",
      "execution_count": null,
      "id": "ed97a1dd-fd54-4c4b-9966-66be04446d4b",
      "metadata": {
        "tags": [],
        "id": "ed97a1dd-fd54-4c4b-9966-66be04446d4b"
      },
      "outputs": [],
      "source": [
        "type(\"1.5\")"
      ]
    },
    {
      "cell_type": "code",
      "execution_count": null,
      "id": "7d257127-ba32-4090-8ad2-cd2567960729",
      "metadata": {
        "tags": [],
        "id": "7d257127-ba32-4090-8ad2-cd2567960729"
      },
      "outputs": [],
      "source": [
        "c= float(\"1.5\")"
      ]
    },
    {
      "cell_type": "code",
      "execution_count": null,
      "id": "b2634005-872a-4cc8-929f-931275d2b932",
      "metadata": {
        "tags": [],
        "id": "b2634005-872a-4cc8-929f-931275d2b932"
      },
      "outputs": [],
      "source": [
        "print(c)"
      ]
    },
    {
      "cell_type": "code",
      "execution_count": null,
      "id": "2031f5bc-2e38-4fbc-bc20-2f2ace904a5c",
      "metadata": {
        "tags": [],
        "id": "2031f5bc-2e38-4fbc-bc20-2f2ace904a5c"
      },
      "outputs": [],
      "source": [
        "type(c)"
      ]
    },
    {
      "cell_type": "code",
      "execution_count": null,
      "id": "829cb640-264b-40e4-8bc0-fffe0bbe5ee3",
      "metadata": {
        "tags": [],
        "id": "829cb640-264b-40e4-8bc0-fffe0bbe5ee3"
      },
      "outputs": [],
      "source": [
        "int(c)"
      ]
    },
    {
      "cell_type": "code",
      "execution_count": null,
      "id": "473c7f36-fabb-4e76-a151-241b32958eab",
      "metadata": {
        "tags": [],
        "id": "473c7f36-fabb-4e76-a151-241b32958eab"
      },
      "outputs": [],
      "source": [
        "type(int(c))"
      ]
    },
    {
      "cell_type": "code",
      "execution_count": null,
      "id": "03745455-e11d-4646-92a5-da7dd3d63833",
      "metadata": {
        "id": "03745455-e11d-4646-92a5-da7dd3d63833"
      },
      "outputs": [],
      "source": [
        "#Print multiple values"
      ]
    },
    {
      "cell_type": "code",
      "execution_count": null,
      "id": "838cef8b-e39c-4fde-aa30-8dfb60cbdbcc",
      "metadata": {
        "tags": [],
        "id": "838cef8b-e39c-4fde-aa30-8dfb60cbdbcc"
      },
      "outputs": [],
      "source": [
        "print(\"rahul\",23,1.02)"
      ]
    },
    {
      "cell_type": "code",
      "execution_count": null,
      "id": "333016ea-afbd-43ca-9c7b-289d1517c4af",
      "metadata": {
        "tags": [],
        "id": "333016ea-afbd-43ca-9c7b-289d1517c4af"
      },
      "outputs": [],
      "source": [
        "print(\"niha\")\n",
        "print(\"prashi\")"
      ]
    },
    {
      "cell_type": "code",
      "execution_count": null,
      "id": "0c6ba875-d34d-4d57-a5a0-80eb4630ba1d",
      "metadata": {
        "tags": [],
        "id": "0c6ba875-d34d-4d57-a5a0-80eb4630ba1d"
      },
      "outputs": [],
      "source": [
        "print?"
      ]
    },
    {
      "cell_type": "code",
      "execution_count": null,
      "id": "919736c7-a5cb-4b52-b6e4-e36eec47ce38",
      "metadata": {
        "id": "919736c7-a5cb-4b52-b6e4-e36eec47ce38"
      },
      "outputs": [],
      "source": [
        "# septer using"
      ]
    },
    {
      "cell_type": "code",
      "execution_count": null,
      "id": "6ab18f63-0e6c-42e5-8be7-3514c675651e",
      "metadata": {
        "tags": [],
        "id": "6ab18f63-0e6c-42e5-8be7-3514c675651e"
      },
      "outputs": [],
      "source": [
        "print(\"*niha\",45,34.2,sep=\"\\n*\")"
      ]
    },
    {
      "cell_type": "code",
      "execution_count": null,
      "id": "c07b5ab5-9803-46aa-996f-068de789b4f6",
      "metadata": {
        "id": "c07b5ab5-9803-46aa-996f-068de789b4f6"
      },
      "outputs": [],
      "source": [
        "#changing default value of seperator"
      ]
    },
    {
      "cell_type": "code",
      "execution_count": null,
      "id": "0a4be615-6c70-48af-bc10-64412b36e448",
      "metadata": {
        "tags": [],
        "id": "0a4be615-6c70-48af-bc10-64412b36e448"
      },
      "outputs": [],
      "source": [
        "print(\"*niha\",45,34.2,end=\"\\n\")"
      ]
    },
    {
      "cell_type": "code",
      "execution_count": null,
      "id": "baa4a2b2-a1bc-4eb1-8896-791dd3f53303",
      "metadata": {
        "tags": [],
        "id": "baa4a2b2-a1bc-4eb1-8896-791dd3f53303"
      },
      "outputs": [],
      "source": [
        "end?\n"
      ]
    },
    {
      "cell_type": "code",
      "execution_count": null,
      "id": "e1fc6a68-4303-4399-8807-cd4df092c742",
      "metadata": {
        "id": "e1fc6a68-4303-4399-8807-cd4df092c742"
      },
      "outputs": [],
      "source": [
        "# Arithmetic operator"
      ]
    },
    {
      "cell_type": "code",
      "execution_count": null,
      "id": "d409f3e7-400b-4014-9376-a87d419855a3",
      "metadata": {
        "id": "d409f3e7-400b-4014-9376-a87d419855a3"
      },
      "outputs": [],
      "source": [
        "a =7\n",
        "b=8"
      ]
    },
    {
      "cell_type": "code",
      "execution_count": null,
      "id": "2a41a44b-eccc-45f0-8cab-d56a57717a6f",
      "metadata": {
        "id": "2a41a44b-eccc-45f0-8cab-d56a57717a6f"
      },
      "outputs": [],
      "source": [
        "a+b"
      ]
    },
    {
      "cell_type": "code",
      "execution_count": null,
      "id": "9a953354-7092-41e7-ab49-88afeb1feb36",
      "metadata": {
        "id": "9a953354-7092-41e7-ab49-88afeb1feb36"
      },
      "outputs": [],
      "source": [
        "a-b"
      ]
    },
    {
      "cell_type": "code",
      "execution_count": null,
      "id": "2cf12d13-2094-421f-9198-73626dc6ceb2",
      "metadata": {
        "id": "2cf12d13-2094-421f-9198-73626dc6ceb2"
      },
      "outputs": [],
      "source": [
        "a%b"
      ]
    },
    {
      "cell_type": "code",
      "execution_count": null,
      "id": "9d7383fd-ac21-4a24-a56b-bdb9778c6860",
      "metadata": {
        "id": "9d7383fd-ac21-4a24-a56b-bdb9778c6860"
      },
      "outputs": [],
      "source": []
    },
    {
      "cell_type": "code",
      "execution_count": null,
      "id": "476faab1-9b4e-4f2f-9f3a-e1b7e17b68af",
      "metadata": {
        "tags": [],
        "id": "476faab1-9b4e-4f2f-9f3a-e1b7e17b68af"
      },
      "outputs": [],
      "source": [
        "5/5"
      ]
    },
    {
      "cell_type": "code",
      "execution_count": null,
      "id": "c34ccd75-5d25-4ed9-8578-e8026f72f2eb",
      "metadata": {
        "id": "c34ccd75-5d25-4ed9-8578-e8026f72f2eb"
      },
      "outputs": [],
      "source": [
        "# string concatination"
      ]
    },
    {
      "cell_type": "code",
      "execution_count": null,
      "id": "60f29410-e9c5-47c6-add6-4403a41a27ff",
      "metadata": {
        "tags": [],
        "id": "60f29410-e9c5-47c6-add6-4403a41a27ff"
      },
      "outputs": [],
      "source": [
        "first=\"Piyush\"\n",
        "Second=\"Prshi\""
      ]
    },
    {
      "cell_type": "code",
      "execution_count": null,
      "id": "3d355302-cfa6-4994-8942-f7e756c88afc",
      "metadata": {
        "tags": [],
        "id": "3d355302-cfa6-4994-8942-f7e756c88afc"
      },
      "outputs": [],
      "source": [
        "print(first+Second)"
      ]
    },
    {
      "cell_type": "code",
      "execution_count": null,
      "id": "60c95d24-2808-41c4-b79e-8654b75fe1cf",
      "metadata": {
        "tags": [],
        "id": "60c95d24-2808-41c4-b79e-8654b75fe1cf"
      },
      "outputs": [],
      "source": [
        "a=6\n",
        "b=8\n",
        "print (a==b)"
      ]
    },
    {
      "cell_type": "code",
      "execution_count": null,
      "id": "7f380473-5c9b-4bd1-9733-e607a10120d2",
      "metadata": {
        "tags": [],
        "id": "7f380473-5c9b-4bd1-9733-e607a10120d2"
      },
      "outputs": [],
      "source": [
        "print (3==3)"
      ]
    },
    {
      "cell_type": "code",
      "execution_count": null,
      "id": "e15b474a-ce16-44c9-88eb-8a106b80b8c0",
      "metadata": {
        "tags": [],
        "id": "e15b474a-ce16-44c9-88eb-8a106b80b8c0"
      },
      "outputs": [],
      "source": [
        "print (3!=3)"
      ]
    },
    {
      "cell_type": "code",
      "execution_count": null,
      "id": "6a0a9c78-0737-4fa6-998b-c2f223e208b9",
      "metadata": {
        "tags": [],
        "id": "6a0a9c78-0737-4fa6-998b-c2f223e208b9"
      },
      "outputs": [],
      "source": [
        "print(a !=b)"
      ]
    },
    {
      "cell_type": "code",
      "execution_count": null,
      "id": "37343a21-f2cb-4746-94a0-903fc4b934b3",
      "metadata": {
        "id": "37343a21-f2cb-4746-94a0-903fc4b934b3"
      },
      "outputs": [],
      "source": [
        "# <>"
      ]
    },
    {
      "cell_type": "code",
      "execution_count": null,
      "id": "c9c9f3d7-c73d-4fe1-b503-be443e0b2015",
      "metadata": {
        "tags": [],
        "id": "c9c9f3d7-c73d-4fe1-b503-be443e0b2015"
      },
      "outputs": [],
      "source": [
        "print(a>b)"
      ]
    },
    {
      "cell_type": "code",
      "execution_count": null,
      "id": "96200efd-8d8e-4e71-be11-bd2943d6b29b",
      "metadata": {
        "tags": [],
        "id": "96200efd-8d8e-4e71-be11-bd2943d6b29b"
      },
      "outputs": [],
      "source": [
        "print(a<b)"
      ]
    },
    {
      "cell_type": "code",
      "execution_count": null,
      "id": "620d1163-f129-44b9-9725-bc33a4d12b9e",
      "metadata": {
        "tags": [],
        "id": "620d1163-f129-44b9-9725-bc33a4d12b9e"
      },
      "outputs": [],
      "source": [
        "print(6>=3)"
      ]
    },
    {
      "cell_type": "code",
      "execution_count": null,
      "id": "03bf2187-8d86-4b2b-a9b3-efc0b9452510",
      "metadata": {
        "tags": [],
        "id": "03bf2187-8d86-4b2b-a9b3-efc0b9452510"
      },
      "outputs": [],
      "source": [
        "print (2<=1)"
      ]
    },
    {
      "cell_type": "code",
      "execution_count": null,
      "id": "02b443de-3c5f-4b42-80f3-388b090db7c7",
      "metadata": {
        "tags": [],
        "id": "02b443de-3c5f-4b42-80f3-388b090db7c7"
      },
      "outputs": [],
      "source": [
        "print(5<=5)"
      ]
    },
    {
      "cell_type": "code",
      "execution_count": null,
      "id": "117032bc-8b9d-483f-aaa6-f5c9111aeba7",
      "metadata": {
        "tags": [],
        "id": "117032bc-8b9d-483f-aaa6-f5c9111aeba7"
      },
      "outputs": [],
      "source": [
        "print(4<=5)"
      ]
    },
    {
      "cell_type": "code",
      "execution_count": null,
      "id": "8aa2f8ed-9084-4177-8dd4-3d23b1afa193",
      "metadata": {
        "id": "8aa2f8ed-9084-4177-8dd4-3d23b1afa193"
      },
      "outputs": [],
      "source": [
        "# Assignment operator"
      ]
    },
    {
      "cell_type": "code",
      "execution_count": null,
      "id": "86f11196-db7c-4473-90a4-7784521ebcf1",
      "metadata": {
        "tags": [],
        "id": "86f11196-db7c-4473-90a4-7784521ebcf1"
      },
      "outputs": [],
      "source": [
        "a=10"
      ]
    },
    {
      "cell_type": "code",
      "execution_count": null,
      "id": "300a9852-a386-48d2-a4b6-6c24d492df10",
      "metadata": {
        "tags": [],
        "id": "300a9852-a386-48d2-a4b6-6c24d492df10"
      },
      "outputs": [],
      "source": [
        "a = a+10\n",
        "print(a)"
      ]
    },
    {
      "cell_type": "code",
      "execution_count": null,
      "id": "702252bf-3174-4396-b3ae-be4401cd4478",
      "metadata": {
        "tags": [],
        "id": "702252bf-3174-4396-b3ae-be4401cd4478"
      },
      "outputs": [],
      "source": [
        "    # a=a+10 is same as a+=10\n",
        "    a += 10\n",
        "    print(a)"
      ]
    },
    {
      "cell_type": "code",
      "execution_count": null,
      "id": "233f1b57-6209-4368-8eec-961e25a64469",
      "metadata": {
        "tags": [],
        "id": "233f1b57-6209-4368-8eec-961e25a64469"
      },
      "outputs": [],
      "source": [
        "2>3"
      ]
    },
    {
      "cell_type": "code",
      "execution_count": null,
      "id": "e74c2e56-2fb1-4a9b-aeb6-4c14a4580dff",
      "metadata": {
        "tags": [],
        "id": "e74c2e56-2fb1-4a9b-aeb6-4c14a4580dff"
      },
      "outputs": [],
      "source": [
        "not True"
      ]
    },
    {
      "cell_type": "code",
      "execution_count": null,
      "id": "d229a806-0448-40c0-be7e-b5ea65d3d79a",
      "metadata": {
        "tags": [],
        "id": "d229a806-0448-40c0-be7e-b5ea65d3d79a"
      },
      "outputs": [],
      "source": [
        "not False"
      ]
    },
    {
      "cell_type": "code",
      "execution_count": null,
      "id": "d18bb5fd-92af-49e6-8efe-0a4cbfe1a17f",
      "metadata": {
        "id": "d18bb5fd-92af-49e6-8efe-0a4cbfe1a17f"
      },
      "outputs": [],
      "source": [
        "# special operator\n",
        "# in operator(Membership operator)- tells you if an object is part of other object or not.\n",
        "#is operator"
      ]
    },
    {
      "cell_type": "code",
      "execution_count": null,
      "id": "1199b538-8d40-4218-bfb1-9313714b056f",
      "metadata": {
        "id": "1199b538-8d40-4218-bfb1-9313714b056f"
      },
      "outputs": [],
      "source": [
        "# in operator(Membership operator)- tells you if an object is part of other object or not."
      ]
    },
    {
      "cell_type": "code",
      "execution_count": null,
      "id": "2b88db6d-b096-4cfe-a55b-73ce369da950",
      "metadata": {
        "tags": [],
        "id": "2b88db6d-b096-4cfe-a55b-73ce369da950"
      },
      "outputs": [],
      "source": [
        "name=\"Niharika SINGH\""
      ]
    },
    {
      "cell_type": "code",
      "execution_count": null,
      "id": "9de15f5d-f220-4dd7-b327-d389191931d0",
      "metadata": {
        "tags": [],
        "id": "9de15f5d-f220-4dd7-b327-d389191931d0"
      },
      "outputs": [],
      "source": [
        "\"N\" in name"
      ]
    },
    {
      "cell_type": "code",
      "execution_count": null,
      "id": "b86c3ac1-d2e6-4a6a-a144-059825db2024",
      "metadata": {
        "tags": [],
        "id": "b86c3ac1-d2e6-4a6a-a144-059825db2024"
      },
      "outputs": [],
      "source": [
        "\"n\" in name"
      ]
    },
    {
      "cell_type": "code",
      "execution_count": null,
      "id": "167efb0c-c3f0-4719-b729-3fe36c10d211",
      "metadata": {
        "tags": [],
        "id": "167efb0c-c3f0-4719-b729-3fe36c10d211"
      },
      "outputs": [],
      "source": [
        "\"Niharika\" in name"
      ]
    },
    {
      "cell_type": "code",
      "execution_count": null,
      "id": "2c8f3ab8-e4cf-421f-ba93-85687532b0c7",
      "metadata": {
        "tags": [],
        "id": "2c8f3ab8-e4cf-421f-ba93-85687532b0c7"
      },
      "outputs": [],
      "source": [
        "\"Piyush\" in name"
      ]
    },
    {
      "cell_type": "code",
      "execution_count": null,
      "id": "56150405-4626-40e0-967d-88ca8ce797fa",
      "metadata": {
        "tags": [],
        "id": "56150405-4626-40e0-967d-88ca8ce797fa"
      },
      "outputs": [],
      "source": [
        "\"HGNIS\" in name"
      ]
    },
    {
      "cell_type": "code",
      "execution_count": null,
      "id": "833b7f80-94a1-4fbe-8f7c-92cea5ab9ed2",
      "metadata": {
        "id": "833b7f80-94a1-4fbe-8f7c-92cea5ab9ed2"
      },
      "outputs": [],
      "source": [
        "# IS operator tells you if both object are at same memory loation?"
      ]
    },
    {
      "cell_type": "code",
      "execution_count": null,
      "id": "ba556170-2473-4d2a-8d00-7b9851a7c4d4",
      "metadata": {
        "tags": [],
        "id": "ba556170-2473-4d2a-8d00-7b9851a7c4d4"
      },
      "outputs": [],
      "source": [
        "print(2>3 and 4<2)"
      ]
    },
    {
      "cell_type": "code",
      "execution_count": null,
      "id": "8a54c269-818f-40c2-b372-a4947a7c4c2c",
      "metadata": {
        "tags": [],
        "id": "8a54c269-818f-40c2-b372-a4947a7c4c2c"
      },
      "outputs": [],
      "source": [
        "print(not 2<4)\n"
      ]
    },
    {
      "cell_type": "code",
      "execution_count": null,
      "id": "09bf0a56-960b-44ed-aba6-9db333a16496",
      "metadata": {
        "tags": [],
        "id": "09bf0a56-960b-44ed-aba6-9db333a16496"
      },
      "outputs": [],
      "source": [
        "print(0 or 1)"
      ]
    },
    {
      "cell_type": "code",
      "execution_count": null,
      "id": "0872f6c3-48c4-447b-aa23-b495f6c84bd6",
      "metadata": {
        "id": "0872f6c3-48c4-447b-aa23-b495f6c84bd6"
      },
      "outputs": [],
      "source": [
        "#if, elif and  else condition"
      ]
    },
    {
      "cell_type": "code",
      "execution_count": null,
      "id": "49b9997e-c97f-4865-b8e4-4f233a59eecd",
      "metadata": {
        "tags": [],
        "id": "49b9997e-c97f-4865-b8e4-4f233a59eecd"
      },
      "outputs": [],
      "source": [
        "num = int(input())\n",
        "if num>0:\n",
        "    print(\"Positive\")\n",
        "if num ==0:\n",
        "          print(\"Zero\")\n",
        "else:\n",
        "          print(\"Negative\")\n"
      ]
    },
    {
      "cell_type": "code",
      "execution_count": null,
      "id": "98aceb0d-83ee-4701-8dcd-26cdcc303c12",
      "metadata": {
        "id": "98aceb0d-83ee-4701-8dcd-26cdcc303c12"
      },
      "outputs": [],
      "source": [
        "marks=int (input())\n",
        "if marks>= 90 and marks<=100:\n",
        "    print(\"A Grade\")\n",
        "elif marks>=80 and marks<90:\n",
        "    print(\"B Grade\")\n",
        "elif marks >=70 and marks<80:\n",
        "    print (\"C Grade\")\n",
        "elif marks>= 60 and marks<70:\n",
        "    print(\"D Grade\")\n",
        "elif marks< 60:\n",
        "    print(\"E\")\n",
        "else:\n",
        "    print(\"Invalid\")"
      ]
    },
    {
      "cell_type": "code",
      "execution_count": null,
      "id": "f592abae-623e-4f58-a833-2c25ccd172ed",
      "metadata": {
        "id": "f592abae-623e-4f58-a833-2c25ccd172ed"
      },
      "outputs": [],
      "source": [
        "#while loop"
      ]
    },
    {
      "cell_type": "code",
      "execution_count": null,
      "id": "0996a398-de7d-4137-9dea-b87c5c8baffe",
      "metadata": {
        "id": "0996a398-de7d-4137-9dea-b87c5c8baffe"
      },
      "outputs": [],
      "source": [
        "# initialize\n",
        "i=1\n",
        "#loop condition\n",
        "while i <=6:\n",
        "    # inside body\n",
        "print(\"You are the best\")\n",
        "# update\n",
        "i +=1"
      ]
    },
    {
      "cell_type": "code",
      "execution_count": null,
      "id": "32ed2f0e-7f1e-4fec-91f0-cac6c155fa8f",
      "metadata": {
        "id": "32ed2f0e-7f1e-4fec-91f0-cac6c155fa8f"
      },
      "outputs": [],
      "source": [
        "# for loop\n",
        "# i : iterator\n",
        "# range (): iterable\n",
        "for i in range (1,11):\n",
        "print(i)\n",
        "# print(i , end=\" \")"
      ]
    },
    {
      "cell_type": "code",
      "execution_count": null,
      "id": "3cf8ce24-08bc-46d8-97ed-ced712b2b6fd",
      "metadata": {
        "id": "3cf8ce24-08bc-46d8-97ed-ced712b2b6fd"
      },
      "outputs": [],
      "source": [
        "# print multiplication table of 5"
      ]
    },
    {
      "cell_type": "code",
      "execution_count": null,
      "id": "a7640d58-894b-44b1-adde-c6d8c9b1a80f",
      "metadata": {
        "id": "a7640d58-894b-44b1-adde-c6d8c9b1a80f"
      },
      "outputs": [],
      "source": [
        "n= int (input())\n",
        "for i in range(1,11):\n",
        "    print(i * n)"
      ]
    },
    {
      "cell_type": "code",
      "execution_count": null,
      "id": "cc020fb3-563c-431d-beb3-816eda287fce",
      "metadata": {
        "id": "cc020fb3-563c-431d-beb3-816eda287fce"
      },
      "outputs": [],
      "source": [
        "# pattern"
      ]
    },
    {
      "cell_type": "code",
      "execution_count": null,
      "id": "a7475f07-7291-437c-bd2d-7e793965e807",
      "metadata": {
        "id": "a7475f07-7291-437c-bd2d-7e793965e807",
        "outputId": "7d36d3bf-2e98-4532-d149-0eca0bf9b240"
      },
      "outputs": [
        {
          "name": "stdout",
          "output_type": "stream",
          "text": [
            "# # # # \n",
            "# # # # \n",
            "# # # # \n",
            "# # # # \n",
            "# # # # "
          ]
        }
      ],
      "source": [
        "for i in range(4):\n",
        "    print(\"#\", end=\" \")\n",
        "print()\n",
        "for i in range(4):\n",
        "    print(\"#\", end=\" \")\n",
        "print()\n",
        "\n",
        "for i in range(4):\n",
        "    print(\"#\", end=\" \")\n",
        "print()\n",
        "\n",
        "for i in range(4):\n",
        "    print(\"#\", end=\" \")\n",
        "print()\n",
        "for i in range(4):\n",
        "    print(\"#\", end=\" \")\n",
        "\n",
        "\n"
      ]
    },
    {
      "cell_type": "code",
      "execution_count": null,
      "id": "b9820425-372c-4093-a36d-42d65ae260b5",
      "metadata": {
        "id": "b9820425-372c-4093-a36d-42d65ae260b5"
      },
      "outputs": [],
      "source": [
        "for i in range(4):\n",
        "    for j in range(4):\n",
        "           print(\"#\", end=\" \")\n",
        "        print()"
      ]
    },
    {
      "cell_type": "code",
      "execution_count": null,
      "id": "e9dac2f9-dbcb-41f0-a4ee-6d610e92924b",
      "metadata": {
        "id": "e9dac2f9-dbcb-41f0-a4ee-6d610e92924b",
        "outputId": "be0ec270-11ce-4e24-82f6-59c9732d19f4"
      },
      "outputs": [
        {
          "name": "stdout",
          "output_type": "stream",
          "text": [
            "1\n",
            "# \n"
          ]
        }
      ],
      "source": [
        "n= int (input())\n",
        "# run for rows\n",
        "for i in range(1 , n+1):\n",
        "    for j in range(i):\n",
        "        print(\"#\", end=\" \")\n",
        "# after printing row go to the next row\n",
        "print()\n"
      ]
    },
    {
      "cell_type": "code",
      "execution_count": null,
      "id": "37b43998-a8e3-49b0-88ba-7c7df38f653b",
      "metadata": {
        "id": "37b43998-a8e3-49b0-88ba-7c7df38f653b"
      },
      "outputs": [],
      "source": [
        "# Break, continue and pass"
      ]
    },
    {
      "cell_type": "code",
      "execution_count": null,
      "id": "265e8640-af1c-4eec-8cf8-0b6b024126fe",
      "metadata": {
        "id": "265e8640-af1c-4eec-8cf8-0b6b024126fe"
      },
      "outputs": [],
      "source": [
        "# Pass"
      ]
    },
    {
      "cell_type": "code",
      "execution_count": null,
      "id": "b5dea166-c96e-45d4-be98-c6707eb2cda4",
      "metadata": {
        "id": "b5dea166-c96e-45d4-be98-c6707eb2cda4"
      },
      "outputs": [],
      "source": [
        "for i in range(1,10):\n",
        "    pass"
      ]
    },
    {
      "cell_type": "code",
      "execution_count": null,
      "id": "c5fa04a2-2f7a-4c7d-8273-92766b146719",
      "metadata": {
        "id": "c5fa04a2-2f7a-4c7d-8273-92766b146719"
      },
      "outputs": [],
      "source": [
        "# continue"
      ]
    },
    {
      "cell_type": "code",
      "execution_count": null,
      "id": "1c6e04bd-4879-49fb-84db-4e95aec82ef3",
      "metadata": {
        "id": "1c6e04bd-4879-49fb-84db-4e95aec82ef3"
      },
      "outputs": [],
      "source": [
        "for i in range(1,10):\n",
        "    if i == 5:\n",
        "        continue\n",
        "        print(i)"
      ]
    },
    {
      "cell_type": "code",
      "execution_count": null,
      "id": "4a9f979c-eb3f-4542-b623-175c6b0ff457",
      "metadata": {
        "id": "4a9f979c-eb3f-4542-b623-175c6b0ff457"
      },
      "outputs": [],
      "source": []
    },
    {
      "cell_type": "code",
      "execution_count": null,
      "id": "1c0bc5bf-b176-42e6-83a7-e1bb13dcf62e",
      "metadata": {
        "id": "1c0bc5bf-b176-42e6-83a7-e1bb13dcf62e"
      },
      "outputs": [],
      "source": [
        "# break"
      ]
    },
    {
      "cell_type": "code",
      "execution_count": null,
      "id": "4aa70fbf-f70c-4af3-830c-eb55d0d41a09",
      "metadata": {
        "id": "4aa70fbf-f70c-4af3-830c-eb55d0d41a09"
      },
      "outputs": [],
      "source": [
        "for i in range(1,10):\n",
        "    if i == 5:\n",
        "        break\n",
        "        print(i)"
      ]
    },
    {
      "cell_type": "code",
      "execution_count": null,
      "id": "90797519-3ee2-4634-b607-c0e775907a66",
      "metadata": {
        "id": "90797519-3ee2-4634-b607-c0e775907a66"
      },
      "outputs": [],
      "source": [
        "\n"
      ]
    },
    {
      "cell_type": "code",
      "execution_count": null,
      "id": "8d84ae50-cc83-4738-9b8b-f9169ca66a95",
      "metadata": {
        "id": "8d84ae50-cc83-4738-9b8b-f9169ca66a95"
      },
      "outputs": [],
      "source": [
        "i = 1\n",
        "while i < 10:\n",
        "    if i == 5:\n",
        "        break\n",
        "        print (i)\n",
        "        i +=1"
      ]
    },
    {
      "cell_type": "code",
      "execution_count": null,
      "id": "d1e33a51-4add-43e5-8aa9-718ec8a0873f",
      "metadata": {
        "id": "d1e33a51-4add-43e5-8aa9-718ec8a0873f"
      },
      "outputs": [],
      "source": []
    },
    {
      "cell_type": "code",
      "execution_count": null,
      "id": "284b4726-181e-4cf5-8e40-e5bc27b1c036",
      "metadata": {
        "id": "284b4726-181e-4cf5-8e40-e5bc27b1c036",
        "outputId": "8d27da91-eddf-46c5-c439-efc62c244974"
      },
      "outputs": [
        {
          "data": {
            "text/plain": [
              "90"
            ]
          },
          "execution_count": 1,
          "metadata": {},
          "output_type": "execute_result"
        }
      ],
      "source": [
        "ord(\"Z\")"
      ]
    },
    {
      "cell_type": "code",
      "execution_count": null,
      "id": "b9654aff-ee75-46b6-95c6-68a930b742c6",
      "metadata": {
        "id": "b9654aff-ee75-46b6-95c6-68a930b742c6",
        "outputId": "b9fe29ee-8e10-44b6-dc9b-f9a9da21b6e0"
      },
      "outputs": [
        {
          "data": {
            "text/plain": [
              "'a'"
            ]
          },
          "execution_count": 3,
          "metadata": {},
          "output_type": "execute_result"
        }
      ],
      "source": [
        "chr(97)"
      ]
    },
    {
      "cell_type": "code",
      "execution_count": null,
      "id": "7c1ddc04-bd86-42e2-8214-f0f25a97830f",
      "metadata": {
        "id": "7c1ddc04-bd86-42e2-8214-f0f25a97830f"
      },
      "outputs": [],
      "source": [
        "# string"
      ]
    },
    {
      "cell_type": "code",
      "execution_count": null,
      "id": "9320f051-984f-49a1-94b9-93855864f821",
      "metadata": {
        "id": "9320f051-984f-49a1-94b9-93855864f821"
      },
      "outputs": [],
      "source": [
        "name = \"Niharika Singh\""
      ]
    },
    {
      "cell_type": "code",
      "execution_count": null,
      "id": "f10ec5ed-3374-4109-9ebb-159d71565173",
      "metadata": {
        "id": "f10ec5ed-3374-4109-9ebb-159d71565173",
        "outputId": "a759f2d6-204f-4944-d758-c089fcaed8c2"
      },
      "outputs": [
        {
          "data": {
            "text/plain": [
              "'N'"
            ]
          },
          "execution_count": 8,
          "metadata": {},
          "output_type": "execute_result"
        }
      ],
      "source": [
        "name[0]"
      ]
    },
    {
      "cell_type": "code",
      "execution_count": null,
      "id": "c8a7739a",
      "metadata": {
        "id": "c8a7739a",
        "outputId": "7f02ff24-8b90-457e-9df6-469de6df6378"
      },
      "outputs": [
        {
          "data": {
            "text/plain": [
              "'Nih'"
            ]
          },
          "execution_count": 10,
          "metadata": {},
          "output_type": "execute_result"
        }
      ],
      "source": [
        "name[0:3]"
      ]
    },
    {
      "cell_type": "code",
      "execution_count": null,
      "id": "2cd20061",
      "metadata": {
        "id": "2cd20061",
        "outputId": "6fd4a2fb-a0ea-4c03-89ae-03cb3f58a95c"
      },
      "outputs": [
        {
          "data": {
            "text/plain": [
              "'harika Singh'"
            ]
          },
          "execution_count": 11,
          "metadata": {},
          "output_type": "execute_result"
        }
      ],
      "source": [
        "size = len (name)\n",
        "name[2:size]"
      ]
    },
    {
      "cell_type": "code",
      "execution_count": null,
      "id": "40ea3aa4",
      "metadata": {
        "id": "40ea3aa4",
        "outputId": "a0f45c4b-3e12-4920-d152-0a11dca8c196"
      },
      "outputs": [
        {
          "data": {
            "text/plain": [
              "'Nhrk ig'"
            ]
          },
          "execution_count": 12,
          "metadata": {},
          "output_type": "execute_result"
        }
      ],
      "source": [
        "name[::2]"
      ]
    },
    {
      "cell_type": "code",
      "execution_count": null,
      "id": "d5f0edb4",
      "metadata": {
        "id": "d5f0edb4",
        "outputId": "1ef70e85-d7c5-4ccf-d736-13d7f620dbe2"
      },
      "outputs": [
        {
          "data": {
            "text/plain": [
              "'Niharika Sing'"
            ]
          },
          "execution_count": 13,
          "metadata": {},
          "output_type": "execute_result"
        }
      ],
      "source": [
        "name [:-1]"
      ]
    },
    {
      "cell_type": "code",
      "execution_count": null,
      "id": "888483c6",
      "metadata": {
        "id": "888483c6",
        "outputId": "0693c189-5aa4-475c-a623-4d5a0252d956"
      },
      "outputs": [
        {
          "name": "stdout",
          "output_type": "stream",
          "text": [
            "Hey my name is {name }. My age is {age}.\n"
          ]
        }
      ],
      "source": [
        "name= \"Niha\"\n",
        "age=30\n",
        "print (\"Hey my name is {name }. My age is {age}.\")"
      ]
    },
    {
      "cell_type": "code",
      "execution_count": null,
      "id": "05cdd3a5",
      "metadata": {
        "id": "05cdd3a5",
        "outputId": "9234cf4f-8b29-48ca-d504-d561682dc5bd"
      },
      "outputs": [
        {
          "name": "stdout",
          "output_type": "stream",
          "text": [
            "Hey my name is Niha.My age is 30.\n"
          ]
        }
      ],
      "source": [
        "name= \"Niha\"\n",
        "age=30\n",
        "print(f\"Hey my name is {name }.My age is {age}.\")\n",
        "# f format"
      ]
    },
    {
      "cell_type": "code",
      "execution_count": null,
      "id": "d14b5b38",
      "metadata": {
        "id": "d14b5b38"
      },
      "outputs": [],
      "source": [
        "# string concatination"
      ]
    },
    {
      "cell_type": "code",
      "execution_count": null,
      "id": "1d788e8f",
      "metadata": {
        "id": "1d788e8f",
        "outputId": "72ede884-d4ff-45fc-865e-f96386226176"
      },
      "outputs": [
        {
          "name": "stdout",
          "output_type": "stream",
          "text": [
            "niha\n",
            "singh\n",
            "nihasingh\n"
          ]
        }
      ],
      "source": [
        "first =input()\n",
        "second = input()\n",
        "print(first + second)"
      ]
    },
    {
      "cell_type": "code",
      "execution_count": null,
      "id": "a9486fd1",
      "metadata": {
        "id": "a9486fd1",
        "outputId": "0e4e277a-5873-45bf-a34f-a12506bfc798"
      },
      "outputs": [
        {
          "data": {
            "text/plain": [
              "'aaa'"
            ]
          },
          "execution_count": 17,
          "metadata": {},
          "output_type": "execute_result"
        }
      ],
      "source": [
        "\"a\" * 3"
      ]
    },
    {
      "cell_type": "code",
      "execution_count": null,
      "id": "3c906450",
      "metadata": {
        "id": "3c906450"
      },
      "outputs": [],
      "source": [
        "# Print all vowels of a given string"
      ]
    },
    {
      "cell_type": "code",
      "execution_count": null,
      "id": "1a65e0d8",
      "metadata": {
        "id": "1a65e0d8"
      },
      "outputs": [],
      "source": [
        "text = \"The quick brown fox jumps over the lazy dog\""
      ]
    },
    {
      "cell_type": "code",
      "execution_count": null,
      "id": "23053555",
      "metadata": {
        "id": "23053555",
        "outputId": "937fdc23-d4bc-4ee0-d775-06a335c8db2a"
      },
      "outputs": [
        {
          "name": "stdout",
          "output_type": "stream",
          "text": [
            "e u i o o u o e e a o "
          ]
        }
      ],
      "source": [
        "for i in text:\n",
        "    #print (i , end=\" \")\n",
        "    # check if i in this iteration is a vowel\n",
        "    if i ==\"a\" or i ==\"e\" or i==\"i\" or i==\"o\" or i==\"u\":\n",
        "        print(i,end=\" \")"
      ]
    },
    {
      "cell_type": "code",
      "execution_count": null,
      "id": "c5d999a6",
      "metadata": {
        "id": "c5d999a6"
      },
      "outputs": [],
      "source": [
        "# string is pallindrome - if the reverse of the string is same"
      ]
    },
    {
      "cell_type": "code",
      "execution_count": null,
      "id": "1846ac51",
      "metadata": {
        "id": "1846ac51",
        "outputId": "99d5cc10-3d47-4fb0-98b9-8d30f40d7fdc"
      },
      "outputs": [
        {
          "data": {
            "text/plain": [
              "'hsyiP'"
            ]
          },
          "execution_count": 24,
          "metadata": {},
          "output_type": "execute_result"
        }
      ],
      "source": [
        "s = \"Piysh\"\n",
        "# rev is : s[:: -1] using string slicing\n",
        "s[::-1]"
      ]
    },
    {
      "cell_type": "code",
      "execution_count": null,
      "id": "7bb7147e",
      "metadata": {
        "id": "7bb7147e",
        "outputId": "cae551e2-fb93-4b71-d76d-5e08a4d20cfc"
      },
      "outputs": [
        {
          "name": "stdout",
          "output_type": "stream",
          "text": [
            "Niharika\n",
            "No\n"
          ]
        }
      ],
      "source": [
        "s= input()\n",
        "if s== s[:: -1]:\n",
        "    print(\"YES\")\n",
        "else:\n",
        "    print(\"No\")"
      ]
    },
    {
      "cell_type": "code",
      "execution_count": null,
      "id": "b81ac95e",
      "metadata": {
        "id": "b81ac95e"
      },
      "outputs": [],
      "source": [
        "# list"
      ]
    },
    {
      "cell_type": "code",
      "execution_count": null,
      "id": "7fc3e4e6",
      "metadata": {
        "id": "7fc3e4e6"
      },
      "outputs": [],
      "source": [
        "l = [2,3,7,9,5,10,11,14]"
      ]
    },
    {
      "cell_type": "code",
      "execution_count": null,
      "id": "77574e9a",
      "metadata": {
        "id": "77574e9a",
        "outputId": "2c6aabf4-2f95-4130-d8c9-2ea42aa47fb0"
      },
      "outputs": [
        {
          "data": {
            "text/plain": [
              "8"
            ]
          },
          "execution_count": 30,
          "metadata": {},
          "output_type": "execute_result"
        }
      ],
      "source": [
        "len (l)"
      ]
    },
    {
      "cell_type": "code",
      "execution_count": null,
      "id": "6d05edad",
      "metadata": {
        "id": "6d05edad",
        "outputId": "5139adc2-0bbe-4d74-fc06-07f64ede7923"
      },
      "outputs": [
        {
          "data": {
            "text/plain": [
              "[5, 10, 11, 14]"
            ]
          },
          "execution_count": 32,
          "metadata": {},
          "output_type": "execute_result"
        }
      ],
      "source": [
        "l [4:8]"
      ]
    },
    {
      "cell_type": "code",
      "execution_count": null,
      "id": "b513f10e",
      "metadata": {
        "id": "b513f10e",
        "outputId": "9ca04d40-5586-4394-eb93-0b58d6a0b9a7"
      },
      "outputs": [
        {
          "data": {
            "text/plain": [
              "[14, 11, 10, 5, 9, 7, 3, 2]"
            ]
          },
          "execution_count": 33,
          "metadata": {},
          "output_type": "execute_result"
        }
      ],
      "source": [
        "l[::-1]"
      ]
    },
    {
      "cell_type": "code",
      "execution_count": null,
      "id": "0cd4b8eb",
      "metadata": {
        "id": "0cd4b8eb",
        "outputId": "4bf23bf3-68c5-4e47-af39-c6ca03ede35b"
      },
      "outputs": [
        {
          "data": {
            "text/plain": [
              "[14, 10, 9, 3]"
            ]
          },
          "execution_count": 34,
          "metadata": {},
          "output_type": "execute_result"
        }
      ],
      "source": [
        "l[::-2]"
      ]
    },
    {
      "cell_type": "code",
      "execution_count": null,
      "id": "614aedbe",
      "metadata": {
        "id": "614aedbe",
        "outputId": "304a351b-5194-43ca-87fc-b85a1235bf01"
      },
      "outputs": [
        {
          "data": {
            "text/plain": [
              "[14, 5, 3]"
            ]
          },
          "execution_count": 35,
          "metadata": {},
          "output_type": "execute_result"
        }
      ],
      "source": [
        "l[::-3]"
      ]
    },
    {
      "cell_type": "code",
      "execution_count": null,
      "id": "014c8ac5",
      "metadata": {
        "id": "014c8ac5",
        "outputId": "964b3d5c-991c-49f2-bd43-22e41c129ec8"
      },
      "outputs": [
        {
          "data": {
            "text/plain": [
              "[9, 7, 3]"
            ]
          },
          "execution_count": 36,
          "metadata": {},
          "output_type": "execute_result"
        }
      ],
      "source": [
        "l[3:0:-1]"
      ]
    },
    {
      "cell_type": "code",
      "execution_count": null,
      "id": "56f68f4c",
      "metadata": {
        "id": "56f68f4c"
      },
      "outputs": [],
      "source": [
        "# list inbuild method\n",
        "# count :Return a count of object"
      ]
    },
    {
      "cell_type": "code",
      "execution_count": null,
      "id": "4098a482",
      "metadata": {
        "id": "4098a482"
      },
      "outputs": [],
      "source": [
        "budget=[100,150,300,100]"
      ]
    },
    {
      "cell_type": "code",
      "execution_count": null,
      "id": "c65df21e",
      "metadata": {
        "id": "c65df21e",
        "outputId": "16f110e3-a1e7-4974-feab-7567582e7ec5"
      },
      "outputs": [
        {
          "data": {
            "text/plain": [
              "2"
            ]
          },
          "execution_count": 42,
          "metadata": {},
          "output_type": "execute_result"
        }
      ],
      "source": [
        "budget.count(100)"
      ]
    },
    {
      "cell_type": "code",
      "execution_count": null,
      "id": "a9f899a8",
      "metadata": {
        "id": "a9f899a8"
      },
      "outputs": [],
      "source": [
        "# index : Returns the index of 1st occurance an object"
      ]
    },
    {
      "cell_type": "code",
      "execution_count": null,
      "id": "43a5fa41",
      "metadata": {
        "id": "43a5fa41",
        "outputId": "b24b6ba4-f1b7-407c-98d9-ecf6785a6a99"
      },
      "outputs": [
        {
          "data": {
            "text/plain": [
              "[100, 150, 300, 100]"
            ]
          },
          "execution_count": 43,
          "metadata": {},
          "output_type": "execute_result"
        }
      ],
      "source": [
        "budget"
      ]
    },
    {
      "cell_type": "code",
      "execution_count": null,
      "id": "08b67a8b",
      "metadata": {
        "id": "08b67a8b",
        "outputId": "a3fa62ff-c887-4401-a126-c2465e5f41bd"
      },
      "outputs": [
        {
          "data": {
            "text/plain": [
              "2"
            ]
          },
          "execution_count": 47,
          "metadata": {},
          "output_type": "execute_result"
        }
      ],
      "source": [
        "budget.index(300)"
      ]
    },
    {
      "cell_type": "code",
      "execution_count": null,
      "id": "8a640d5f",
      "metadata": {
        "id": "8a640d5f"
      },
      "outputs": [],
      "source": [
        "# pop: Remove and returns  the last element of a list"
      ]
    },
    {
      "cell_type": "code",
      "execution_count": null,
      "id": "73dcc1c1",
      "metadata": {
        "id": "73dcc1c1",
        "outputId": "ed5dd100-b49d-4c70-c0d0-ca2e101c8649"
      },
      "outputs": [
        {
          "data": {
            "text/plain": [
              "'Niha'"
            ]
          },
          "execution_count": 49,
          "metadata": {},
          "output_type": "execute_result"
        }
      ],
      "source": [
        "name"
      ]
    },
    {
      "cell_type": "code",
      "execution_count": null,
      "id": "8c140a9c",
      "metadata": {
        "id": "8c140a9c"
      },
      "outputs": [],
      "source": [
        "name=\"Niharika singh\",\"Priya\""
      ]
    },
    {
      "cell_type": "code",
      "execution_count": null,
      "id": "07bbf15e",
      "metadata": {
        "id": "07bbf15e"
      },
      "outputs": [],
      "source": [
        "# remove: Remove the given object from the list"
      ]
    },
    {
      "cell_type": "code",
      "execution_count": null,
      "id": "bf7018ae",
      "metadata": {
        "id": "bf7018ae"
      },
      "outputs": [],
      "source": [
        "# insert : help to add a element at a given index"
      ]
    },
    {
      "cell_type": "code",
      "execution_count": null,
      "id": "8ad24e5d",
      "metadata": {
        "id": "8ad24e5d"
      },
      "outputs": [],
      "source": [
        "name.remove(\"Priya\")\n"
      ]
    },
    {
      "cell_type": "code",
      "execution_count": null,
      "id": "ee190339",
      "metadata": {
        "id": "ee190339"
      },
      "outputs": [],
      "source": [
        "# append: add the object in the end"
      ]
    },
    {
      "cell_type": "code",
      "execution_count": null,
      "id": "7ab88c63",
      "metadata": {
        "id": "7ab88c63"
      },
      "outputs": [],
      "source": [
        "l=[1,2,3,4]"
      ]
    },
    {
      "cell_type": "code",
      "execution_count": null,
      "id": "1515891a",
      "metadata": {
        "id": "1515891a"
      },
      "outputs": [],
      "source": [
        "l.append(\"Niha\")"
      ]
    },
    {
      "cell_type": "code",
      "execution_count": null,
      "id": "12791811",
      "metadata": {
        "id": "12791811",
        "outputId": "66f2e19e-7bd6-461e-c6ff-6d828bdca241"
      },
      "outputs": [
        {
          "data": {
            "text/plain": [
              "[1, 2, 3, 4, 'Niha']"
            ]
          },
          "execution_count": 58,
          "metadata": {},
          "output_type": "execute_result"
        }
      ],
      "source": [
        "l"
      ]
    },
    {
      "cell_type": "code",
      "execution_count": null,
      "id": "5054068b",
      "metadata": {
        "id": "5054068b"
      },
      "outputs": [],
      "source": [
        "# extend"
      ]
    },
    {
      "cell_type": "code",
      "execution_count": null,
      "id": "733ce573",
      "metadata": {
        "id": "733ce573"
      },
      "outputs": [],
      "source": [
        "l=[1,2,3,4,5]"
      ]
    },
    {
      "cell_type": "markdown",
      "id": "485043b0",
      "metadata": {
        "id": "485043b0"
      },
      "source": [
        "l1"
      ]
    },
    {
      "cell_type": "markdown",
      "id": "9fd34621",
      "metadata": {
        "id": "9fd34621"
      },
      "source": []
    },
    {
      "cell_type": "code",
      "execution_count": null,
      "id": "ecf1092d",
      "metadata": {
        "id": "ecf1092d"
      },
      "outputs": [],
      "source": [
        "# hetrogenous list: Its a list inside list\n",
        "# 2d list"
      ]
    },
    {
      "cell_type": "code",
      "execution_count": null,
      "id": "90ca0f6e",
      "metadata": {
        "id": "90ca0f6e"
      },
      "outputs": [],
      "source": [
        "l1=[1,2,3]\n",
        "l2=[4,5,6]\n",
        "l3=[7,8,9]\n",
        "l=[l1,l2,l3]"
      ]
    },
    {
      "cell_type": "code",
      "execution_count": null,
      "id": "db6f37c9",
      "metadata": {
        "id": "db6f37c9",
        "outputId": "2235bf3b-d05b-49f5-de7b-317e8ba84bc0"
      },
      "outputs": [
        {
          "data": {
            "text/plain": [
              "[[1, 2, 3], [4, 5, 6], [7, 8, 9]]"
            ]
          },
          "execution_count": 66,
          "metadata": {},
          "output_type": "execute_result"
        }
      ],
      "source": [
        "l"
      ]
    },
    {
      "cell_type": "code",
      "execution_count": null,
      "id": "e715a3d5",
      "metadata": {
        "id": "e715a3d5",
        "outputId": "fedee57d-550d-4cae-a382-054259d62708"
      },
      "outputs": [
        {
          "data": {
            "text/plain": [
              "[1, 2, 3]"
            ]
          },
          "execution_count": 67,
          "metadata": {},
          "output_type": "execute_result"
        }
      ],
      "source": [
        "l[0]"
      ]
    },
    {
      "cell_type": "code",
      "execution_count": null,
      "id": "40e75494",
      "metadata": {
        "id": "40e75494",
        "outputId": "e674429e-bd78-42f7-f847-33e6f3064378"
      },
      "outputs": [
        {
          "data": {
            "text/plain": [
              "[4, 5, 6]"
            ]
          },
          "execution_count": 68,
          "metadata": {},
          "output_type": "execute_result"
        }
      ],
      "source": [
        "l[1]"
      ]
    },
    {
      "cell_type": "code",
      "execution_count": null,
      "id": "301d0b1b",
      "metadata": {
        "id": "301d0b1b",
        "outputId": "fbabe924-e631-4a51-be53-5d4ce4bf1205"
      },
      "outputs": [
        {
          "data": {
            "text/plain": [
              "[7, 8, 9]"
            ]
          },
          "execution_count": 69,
          "metadata": {},
          "output_type": "execute_result"
        }
      ],
      "source": [
        "l[2]"
      ]
    },
    {
      "cell_type": "code",
      "execution_count": null,
      "id": "2be8d083",
      "metadata": {
        "id": "2be8d083"
      },
      "outputs": [],
      "source": [
        "# Iteration"
      ]
    },
    {
      "cell_type": "code",
      "execution_count": null,
      "id": "9567311c",
      "metadata": {
        "id": "9567311c",
        "outputId": "300cec9b-b90b-4925-b308-131e8e6cabdc"
      },
      "outputs": [
        {
          "data": {
            "text/plain": [
              "[[1, 2, 3], [4, 5, 6], [7, 8, 9]]"
            ]
          },
          "execution_count": 75,
          "metadata": {},
          "output_type": "execute_result"
        }
      ],
      "source": [
        "l"
      ]
    },
    {
      "cell_type": "code",
      "execution_count": null,
      "id": "2fc07c81",
      "metadata": {
        "id": "2fc07c81",
        "outputId": "54e10794-8807-4dd6-ab3c-e8ba1027d092"
      },
      "outputs": [
        {
          "name": "stdout",
          "output_type": "stream",
          "text": [
            "[1, 2, 3]\n",
            "[4, 5, 6]\n",
            "[7, 8, 9]\n"
          ]
        }
      ],
      "source": [
        "for i in l:\n",
        "    print(i)"
      ]
    },
    {
      "cell_type": "code",
      "execution_count": null,
      "id": "239b8a24",
      "metadata": {
        "id": "239b8a24"
      },
      "outputs": [],
      "source": [
        "# list comprehension"
      ]
    },
    {
      "cell_type": "code",
      "execution_count": null,
      "id": "0568e6da",
      "metadata": {
        "id": "0568e6da",
        "outputId": "e0654279-b0e8-4dd9-d8a8-d5ff27f8632b"
      },
      "outputs": [
        {
          "name": "stdout",
          "output_type": "stream",
          "text": [
            "0\n",
            "1\n",
            "2\n",
            "3\n",
            "4\n",
            "5\n",
            "6\n",
            "7\n",
            "8\n",
            "9\n"
          ]
        }
      ],
      "source": [
        "for i in range(10):\n",
        "     print(i)"
      ]
    },
    {
      "cell_type": "code",
      "execution_count": null,
      "id": "ab4d9c58",
      "metadata": {
        "id": "ab4d9c58"
      },
      "outputs": [],
      "source": [
        "# Tuples : like list tuples are also ordered collection of data\n",
        "# Unchangable\n",
        "#Iterable\n",
        "#can be hetrogenous"
      ]
    },
    {
      "cell_type": "code",
      "execution_count": null,
      "id": "be0953fd",
      "metadata": {
        "id": "be0953fd"
      },
      "outputs": [],
      "source": [
        "plantes = [\"Mercury\", \"Venus\",\"Earth\",\"Mars\",\"Jupiter\"]"
      ]
    },
    {
      "cell_type": "code",
      "execution_count": null,
      "id": "767ea5a2",
      "metadata": {
        "id": "767ea5a2"
      },
      "outputs": [],
      "source": [
        "# creating empty tuple"
      ]
    },
    {
      "cell_type": "code",
      "execution_count": null,
      "id": "5b4c1628",
      "metadata": {
        "id": "5b4c1628",
        "outputId": "9815ad1a-41b9-4d40-b832-fd158339b078"
      },
      "outputs": [
        {
          "data": {
            "text/plain": [
              "tuple"
            ]
          },
          "execution_count": 91,
          "metadata": {},
          "output_type": "execute_result"
        }
      ],
      "source": [
        "piyush=()\n",
        "type(piyush)"
      ]
    },
    {
      "cell_type": "code",
      "execution_count": null,
      "id": "66a2c3c4",
      "metadata": {
        "id": "66a2c3c4",
        "outputId": "75601190-2360-48eb-cb4e-d7a5ceb6beaa"
      },
      "outputs": [
        {
          "data": {
            "text/plain": [
              "tuple"
            ]
          },
          "execution_count": 82,
          "metadata": {},
          "output_type": "execute_result"
        }
      ],
      "source": [
        "t1=tuple()\n",
        "type(t1)"
      ]
    },
    {
      "cell_type": "code",
      "execution_count": null,
      "id": "aebfd9b4",
      "metadata": {
        "id": "aebfd9b4",
        "outputId": "30b112f5-486d-405f-9402-127e1e84c151"
      },
      "outputs": [
        {
          "data": {
            "text/plain": [
              "tuple"
            ]
          },
          "execution_count": 84,
          "metadata": {},
          "output_type": "execute_result"
        }
      ],
      "source": [
        "type(t)"
      ]
    },
    {
      "cell_type": "code",
      "execution_count": null,
      "id": "7896f59b",
      "metadata": {
        "id": "7896f59b",
        "outputId": "b37be317-4abe-4855-ec21-fa210c8d9446"
      },
      "outputs": [
        {
          "data": {
            "text/plain": [
              "list"
            ]
          },
          "execution_count": 85,
          "metadata": {},
          "output_type": "execute_result"
        }
      ],
      "source": [
        "type([0])"
      ]
    },
    {
      "cell_type": "code",
      "execution_count": null,
      "id": "bd389ebc",
      "metadata": {
        "id": "bd389ebc"
      },
      "outputs": [],
      "source": [
        "t[0][0]=36"
      ]
    },
    {
      "cell_type": "code",
      "execution_count": null,
      "id": "dc81b588",
      "metadata": {
        "id": "dc81b588",
        "outputId": "2a694b6f-b59b-4a10-a3ee-a8058296857f"
      },
      "outputs": [
        {
          "data": {
            "text/plain": [
              "([36, 3, 4, 5], 'Niha')"
            ]
          },
          "execution_count": 88,
          "metadata": {},
          "output_type": "execute_result"
        }
      ],
      "source": [
        "t"
      ]
    },
    {
      "cell_type": "code",
      "execution_count": null,
      "id": "c524c765",
      "metadata": {
        "id": "c524c765"
      },
      "outputs": [],
      "source": [
        "# unpacking the tuple"
      ]
    },
    {
      "cell_type": "code",
      "execution_count": null,
      "id": "cfbf79c7",
      "metadata": {
        "id": "cfbf79c7",
        "outputId": "bab9bac1-6f16-43ac-f34e-f54d8955cbb4"
      },
      "outputs": [
        {
          "name": "stdout",
          "output_type": "stream",
          "text": [
            "2 5\n"
          ]
        }
      ],
      "source": [
        "a,b=2,5\n",
        "print(a,b)"
      ]
    },
    {
      "cell_type": "code",
      "execution_count": null,
      "id": "a270b269",
      "metadata": {
        "id": "a270b269"
      },
      "outputs": [],
      "source": [
        "p=(1,3,4,6)"
      ]
    },
    {
      "cell_type": "code",
      "execution_count": null,
      "id": "be6a70b3",
      "metadata": {
        "id": "be6a70b3",
        "outputId": "5baf7547-f868-4939-9cb3-2de37c191fbb"
      },
      "outputs": [
        {
          "name": "stdout",
          "output_type": "stream",
          "text": [
            "1 3 4 6\n"
          ]
        }
      ],
      "source": [
        "a,b,c,d = p\n",
        "print(a,b,c,d)"
      ]
    },
    {
      "cell_type": "code",
      "execution_count": null,
      "id": "3c47c54f",
      "metadata": {
        "id": "3c47c54f"
      },
      "outputs": [],
      "source": [
        "# Tuple operation:count,index,iteration, concatention(two operatio = and *),convert tuple to list and list to tuple"
      ]
    },
    {
      "cell_type": "code",
      "execution_count": null,
      "id": "e39a0214",
      "metadata": {
        "id": "e39a0214",
        "outputId": "01aa7071-d175-4498-8c8e-625f0df3389a"
      },
      "outputs": [
        {
          "name": "stdout",
          "output_type": "stream",
          "text": [
            "('Item_1', 0.5, ['Vijay', 'Vickey', 'Vishal'])\n"
          ]
        }
      ],
      "source": [
        "name_lst = [\"Vijay\", \"Vickey\"]\n",
        "tup = (\"Item_1\", 0.5, name_lst)\n",
        "name_lst.append(\"Vishal\")\n",
        "print(tup)"
      ]
    },
    {
      "cell_type": "code",
      "execution_count": null,
      "id": "3059a30b",
      "metadata": {
        "id": "3059a30b",
        "outputId": "e5070142-9b5f-4dd9-8f4d-40c5c0403835"
      },
      "outputs": [
        {
          "name": "stdout",
          "output_type": "stream",
          "text": [
            "(30, 40, 50) (10, 20, 30, 40) (40, 50, 60, 70, 80)\n"
          ]
        }
      ],
      "source": [
        "elements = (10, 20, 30, 40, 50, 60, 70, 80)\n",
        "print(elements[2:5], elements[:4], elements[3:100])"
      ]
    },
    {
      "cell_type": "code",
      "execution_count": null,
      "id": "d0132ae3",
      "metadata": {
        "id": "d0132ae3"
      },
      "outputs": [],
      "source": [
        "#Dictinary: a mutable data structure that stores key-value pairs. It's similar to a list, set, or tuple, but instead of being indexed by numbers, it's indexed by keys."
      ]
    },
    {
      "cell_type": "code",
      "execution_count": null,
      "id": "33ee48b5",
      "metadata": {
        "id": "33ee48b5"
      },
      "outputs": [],
      "source": [
        "#creating an  empty dictinary"
      ]
    },
    {
      "cell_type": "code",
      "execution_count": null,
      "id": "f812879f",
      "metadata": {
        "id": "f812879f",
        "outputId": "c91e288d-6539-4df1-8d21-614817e36b06"
      },
      "outputs": [
        {
          "name": "stdout",
          "output_type": "stream",
          "text": [
            "<class 'dict'>\n",
            "{}\n"
          ]
        }
      ],
      "source": [
        "#By using {} we can create dictinary\n",
        "e={}\n",
        "print(type(e))\n",
        "print(e)"
      ]
    },
    {
      "cell_type": "code",
      "execution_count": null,
      "id": "fbc2c81e",
      "metadata": {
        "id": "fbc2c81e"
      },
      "outputs": [],
      "source": [
        "#creating an  non-empty dictinary"
      ]
    },
    {
      "cell_type": "code",
      "execution_count": null,
      "id": "3b555945",
      "metadata": {
        "id": "3b555945"
      },
      "outputs": [],
      "source": [
        "fruits={\n",
        "    \"Apple\":120,\n",
        "    \"Mango\":150,\n",
        "    \"pinapple\":270\n",
        "}"
      ]
    },
    {
      "cell_type": "code",
      "execution_count": null,
      "id": "b3eea3a0",
      "metadata": {
        "id": "b3eea3a0",
        "outputId": "9ad55700-5e43-4e71-df51-0e9b4b753074"
      },
      "outputs": [
        {
          "data": {
            "text/plain": [
              "dict"
            ]
          },
          "execution_count": 103,
          "metadata": {},
          "output_type": "execute_result"
        }
      ],
      "source": [
        "type(fruits)"
      ]
    },
    {
      "cell_type": "code",
      "execution_count": null,
      "id": "88333921",
      "metadata": {
        "id": "88333921",
        "outputId": "cd1e0a9d-0a77-4d5e-e560-b6814360114b"
      },
      "outputs": [
        {
          "data": {
            "text/plain": [
              "{'Apple': 120, 'Mango': 150, 'pinapple': 270}"
            ]
          },
          "execution_count": 104,
          "metadata": {},
          "output_type": "execute_result"
        }
      ],
      "source": [
        "fruits"
      ]
    },
    {
      "cell_type": "code",
      "execution_count": null,
      "id": "df6610c3",
      "metadata": {
        "id": "df6610c3"
      },
      "outputs": [],
      "source": [
        "#zip method for creating dictinary"
      ]
    },
    {
      "cell_type": "code",
      "execution_count": null,
      "id": "3f967fba",
      "metadata": {
        "id": "3f967fba"
      },
      "outputs": [],
      "source": [
        "name=[\"Apple\",\"Mango\",\"pinapple\", \"Banana\"]\n",
        "prices=[120,140,160,190]"
      ]
    },
    {
      "cell_type": "code",
      "execution_count": null,
      "id": "547fc840",
      "metadata": {
        "id": "547fc840"
      },
      "outputs": [],
      "source": [
        "fruit =dict(zip(name,prices))"
      ]
    },
    {
      "cell_type": "code",
      "execution_count": null,
      "id": "409e3f76",
      "metadata": {
        "id": "409e3f76",
        "outputId": "4675b03c-251b-407b-ea97-875fa51b6cca"
      },
      "outputs": [
        {
          "data": {
            "text/plain": [
              "{'Apple': 120, 'Mango': 140, 'pinapple': 160, 'Banana': 190}"
            ]
          },
          "execution_count": 107,
          "metadata": {},
          "output_type": "execute_result"
        }
      ],
      "source": [
        "fruit"
      ]
    },
    {
      "cell_type": "code",
      "execution_count": null,
      "id": "33a3d8af",
      "metadata": {
        "id": "33a3d8af",
        "outputId": "14cedab6-2a85-4a01-e9b5-5f6ea960817a"
      },
      "outputs": [
        {
          "data": {
            "text/plain": [
              "4"
            ]
          },
          "execution_count": 108,
          "metadata": {},
          "output_type": "execute_result"
        }
      ],
      "source": [
        "len(fruit)"
      ]
    },
    {
      "cell_type": "code",
      "execution_count": null,
      "id": "4376c35b",
      "metadata": {
        "id": "4376c35b"
      },
      "outputs": [],
      "source": [
        "# Accessing the element in dictinary # using key"
      ]
    },
    {
      "cell_type": "code",
      "execution_count": null,
      "id": "c17ef83b",
      "metadata": {
        "id": "c17ef83b"
      },
      "outputs": [],
      "source": [
        "fruits={\n",
        "    \"Apple\":120,\n",
        "    \"Mango\":150,\n",
        "    \"pinapple\":270\n",
        "}"
      ]
    },
    {
      "cell_type": "code",
      "execution_count": null,
      "id": "3bbccf09",
      "metadata": {
        "id": "3bbccf09",
        "outputId": "61ee4a03-b77e-4d69-a030-eb6264fc202e"
      },
      "outputs": [
        {
          "data": {
            "text/plain": [
              "120"
            ]
          },
          "execution_count": 110,
          "metadata": {},
          "output_type": "execute_result"
        }
      ],
      "source": [
        "fruits[\"Apple\"]"
      ]
    },
    {
      "cell_type": "code",
      "execution_count": null,
      "id": "3bb439e9",
      "metadata": {
        "id": "3bb439e9",
        "outputId": "9f0b2e0d-5f78-407a-8456-32766a55f0fb"
      },
      "outputs": [
        {
          "data": {
            "text/plain": [
              "150"
            ]
          },
          "execution_count": 111,
          "metadata": {},
          "output_type": "execute_result"
        }
      ],
      "source": [
        "fruits[\"Mango\"]"
      ]
    },
    {
      "cell_type": "code",
      "execution_count": null,
      "id": "e3ced45a",
      "metadata": {
        "id": "e3ced45a"
      },
      "outputs": [],
      "source": [
        "# get method: to avoid error"
      ]
    },
    {
      "cell_type": "code",
      "execution_count": null,
      "id": "feb00383",
      "metadata": {
        "id": "feb00383",
        "outputId": "63021ef5-21ef-4835-8000-86a1090143c9"
      },
      "outputs": [
        {
          "data": {
            "text/plain": [
              "{'Apple': 120, 'Mango': 150, 'pinapple': 270}"
            ]
          },
          "execution_count": 112,
          "metadata": {},
          "output_type": "execute_result"
        }
      ],
      "source": [
        "fruits"
      ]
    },
    {
      "cell_type": "code",
      "execution_count": null,
      "id": "eef0b747",
      "metadata": {
        "id": "eef0b747",
        "outputId": "f58e844a-700e-49bc-9dc4-4e617c6ab096"
      },
      "outputs": [
        {
          "data": {
            "text/plain": [
              "120"
            ]
          },
          "execution_count": 113,
          "metadata": {},
          "output_type": "execute_result"
        }
      ],
      "source": [
        "fruits.get(\"Apple\")"
      ]
    },
    {
      "cell_type": "code",
      "execution_count": null,
      "id": "6e3c152d",
      "metadata": {
        "id": "6e3c152d"
      },
      "outputs": [],
      "source": [
        "fruits.get(\"Guava\")"
      ]
    },
    {
      "cell_type": "code",
      "execution_count": null,
      "id": "962bf52a",
      "metadata": {
        "id": "962bf52a",
        "outputId": "8144d5b3-1ed1-435b-cbba-a382404bb92f"
      },
      "outputs": [
        {
          "data": {
            "text/plain": [
              "'0'"
            ]
          },
          "execution_count": 115,
          "metadata": {},
          "output_type": "execute_result"
        }
      ],
      "source": [
        "fruits.get(\"Guava\",\"0\")"
      ]
    },
    {
      "cell_type": "code",
      "execution_count": null,
      "id": "ef8f774e",
      "metadata": {
        "id": "ef8f774e"
      },
      "outputs": [],
      "source": [
        "#Updating a dictinary: 1 Usng key 2 update"
      ]
    },
    {
      "cell_type": "code",
      "execution_count": null,
      "id": "5a5e967e",
      "metadata": {
        "id": "5a5e967e"
      },
      "outputs": [],
      "source": [
        "#updating the existing value single value"
      ]
    },
    {
      "cell_type": "code",
      "execution_count": null,
      "id": "6993edf1",
      "metadata": {
        "id": "6993edf1"
      },
      "outputs": [],
      "source": [
        "fruits={\n",
        "    \"Apple\":120,\n",
        "    \"Mango\":150,\n",
        "    \"pinapple\":270\n",
        "}"
      ]
    },
    {
      "cell_type": "code",
      "execution_count": null,
      "id": "39b0ebfe",
      "metadata": {
        "id": "39b0ebfe",
        "outputId": "001dd4cf-d2e0-4493-b085-f87174d3350f"
      },
      "outputs": [
        {
          "data": {
            "text/plain": [
              "120"
            ]
          },
          "execution_count": 117,
          "metadata": {},
          "output_type": "execute_result"
        }
      ],
      "source": [
        "fruits[\"Apple\"]"
      ]
    },
    {
      "cell_type": "code",
      "execution_count": null,
      "id": "4e1bac9a",
      "metadata": {
        "id": "4e1bac9a"
      },
      "outputs": [],
      "source": [
        "fruits[\"Apple\"] = {\"small\":50, \"LARGE\":80}"
      ]
    },
    {
      "cell_type": "code",
      "execution_count": null,
      "id": "c9dd9fe1",
      "metadata": {
        "id": "c9dd9fe1",
        "outputId": "64144d5c-0337-402b-e6c3-fcf38a2eaef5"
      },
      "outputs": [
        {
          "data": {
            "text/plain": [
              "{'Apple': {'small': 50, 'LARGE': 80}, 'Mango': 150, 'pinapple': 270}"
            ]
          },
          "execution_count": 119,
          "metadata": {},
          "output_type": "execute_result"
        }
      ],
      "source": [
        "fruits"
      ]
    },
    {
      "cell_type": "code",
      "execution_count": null,
      "id": "eeb86a02",
      "metadata": {
        "id": "eeb86a02",
        "outputId": "a8892b9b-291b-4e1e-eb6e-e2e3c0dbaa6e"
      },
      "outputs": [
        {
          "data": {
            "text/plain": [
              "{'Apple': {'small': 50, 'LARGE': 80},\n",
              " 'Mango': 150,\n",
              " 'pinapple': 270,\n",
              " 'Banana': 80}"
            ]
          },
          "execution_count": 120,
          "metadata": {},
          "output_type": "execute_result"
        }
      ],
      "source": [
        "#[\"key\"]=value\n",
        "fruits[\"Banana\"]=80\n",
        "fruits"
      ]
    },
    {
      "cell_type": "code",
      "execution_count": null,
      "id": "a937ca78",
      "metadata": {
        "id": "a937ca78"
      },
      "outputs": [],
      "source": [
        "#updating a multiple value using update key"
      ]
    },
    {
      "cell_type": "code",
      "execution_count": null,
      "id": "e83ada8f",
      "metadata": {
        "id": "e83ada8f"
      },
      "outputs": [],
      "source": [
        "new={\"Grape\":200,\"orange\":90,\"Dragonfruit\":120,\"starfruit\":200}"
      ]
    },
    {
      "cell_type": "code",
      "execution_count": null,
      "id": "dd430507",
      "metadata": {
        "id": "dd430507"
      },
      "outputs": [],
      "source": [
        "fruits.update(new)"
      ]
    },
    {
      "cell_type": "code",
      "execution_count": null,
      "id": "e494de96",
      "metadata": {
        "id": "e494de96",
        "outputId": "b0487921-d6a7-4745-83f9-984b39f2bc00"
      },
      "outputs": [
        {
          "data": {
            "text/plain": [
              "{'Apple': {'small': 50, 'LARGE': 80},\n",
              " 'Mango': 150,\n",
              " 'pinapple': 270,\n",
              " 'Banana': 80,\n",
              " 'Grape': 200,\n",
              " 'orange': 90,\n",
              " 'Dragonfruit': 120,\n",
              " 'starfruit': 200}"
            ]
          },
          "execution_count": 123,
          "metadata": {},
          "output_type": "execute_result"
        }
      ],
      "source": [
        "fruits"
      ]
    },
    {
      "cell_type": "code",
      "execution_count": null,
      "id": "2819e182",
      "metadata": {
        "id": "2819e182"
      },
      "outputs": [],
      "source": [
        "# deleting data from dictinary"
      ]
    },
    {
      "cell_type": "code",
      "execution_count": null,
      "id": "a021f742",
      "metadata": {
        "id": "a021f742"
      },
      "outputs": [],
      "source": [
        "fruits={\n",
        "    \"Apple\":120,\n",
        "    \"Mango\":150,\n",
        "    \"pinapple\":270\n",
        "}"
      ]
    },
    {
      "cell_type": "code",
      "execution_count": null,
      "id": "3e3fe614",
      "metadata": {
        "id": "3e3fe614"
      },
      "outputs": [],
      "source": [
        "# citizanship check"
      ]
    },
    {
      "cell_type": "code",
      "execution_count": null,
      "id": "fc888afe",
      "metadata": {
        "id": "fc888afe",
        "outputId": "be6e307f-244c-41bb-c2af-c8826366759a"
      },
      "outputs": [
        {
          "data": {
            "text/plain": [
              "{'Apple': 120, 'Mango': 150, 'pinapple': 270}"
            ]
          },
          "execution_count": 125,
          "metadata": {},
          "output_type": "execute_result"
        }
      ],
      "source": [
        "fruits"
      ]
    },
    {
      "cell_type": "code",
      "execution_count": null,
      "id": "96186997",
      "metadata": {
        "id": "96186997",
        "outputId": "b25e8bad-4f04-4282-baa3-e9c662c0aacf"
      },
      "outputs": [
        {
          "data": {
            "text/plain": [
              "True"
            ]
          },
          "execution_count": 126,
          "metadata": {},
          "output_type": "execute_result"
        }
      ],
      "source": [
        "\"Apple\" in fruits"
      ]
    },
    {
      "cell_type": "code",
      "execution_count": null,
      "id": "20a92797",
      "metadata": {
        "id": "20a92797",
        "outputId": "144c44c2-7c44-4a3c-ce7c-6674ec82c756"
      },
      "outputs": [
        {
          "data": {
            "text/plain": [
              "False"
            ]
          },
          "execution_count": 127,
          "metadata": {},
          "output_type": "execute_result"
        }
      ],
      "source": [
        "\"Grape\" in fruits"
      ]
    },
    {
      "cell_type": "code",
      "execution_count": null,
      "id": "b05ebe2a",
      "metadata": {
        "id": "b05ebe2a"
      },
      "outputs": [],
      "source": [
        "#deletig object from dictinary:dict.pop(key)"
      ]
    },
    {
      "cell_type": "code",
      "execution_count": null,
      "id": "9e9a4d28",
      "metadata": {
        "id": "9e9a4d28",
        "outputId": "bb186cbf-eeab-4bbc-afa9-d4451b42eb85"
      },
      "outputs": [
        {
          "data": {
            "text/plain": [
              "{'Apple': 120, 'Mango': 150, 'pinapple': 270}"
            ]
          },
          "execution_count": 128,
          "metadata": {},
          "output_type": "execute_result"
        }
      ],
      "source": [
        "fruits"
      ]
    },
    {
      "cell_type": "code",
      "execution_count": null,
      "id": "1c37efd4",
      "metadata": {
        "id": "1c37efd4",
        "outputId": "5d6652d3-ed5f-48ca-f235-1ae0a824b023"
      },
      "outputs": [
        {
          "data": {
            "text/plain": [
              "120"
            ]
          },
          "execution_count": 129,
          "metadata": {},
          "output_type": "execute_result"
        }
      ],
      "source": [
        "fruits.pop(\"Apple\")"
      ]
    },
    {
      "cell_type": "code",
      "execution_count": null,
      "id": "638758db",
      "metadata": {
        "id": "638758db",
        "outputId": "ab143855-6f6a-496d-e55e-bf9f42f2f561"
      },
      "outputs": [
        {
          "data": {
            "text/plain": [
              "{'Mango': 150, 'pinapple': 270}"
            ]
          },
          "execution_count": 130,
          "metadata": {},
          "output_type": "execute_result"
        }
      ],
      "source": [
        "fruits"
      ]
    },
    {
      "cell_type": "code",
      "execution_count": null,
      "id": "d2d9e5a1",
      "metadata": {
        "id": "d2d9e5a1"
      },
      "outputs": [],
      "source": [
        "# delete last element of the dictnary:dict.popitem()"
      ]
    },
    {
      "cell_type": "code",
      "execution_count": null,
      "id": "618d0344",
      "metadata": {
        "id": "618d0344"
      },
      "outputs": [],
      "source": [
        "fruits={\n",
        "    \"Apple\":120,\n",
        "    \"Mango\":150,\n",
        "    \"pinapple\":270\n",
        "}"
      ]
    },
    {
      "cell_type": "code",
      "execution_count": null,
      "id": "54d3e89f",
      "metadata": {
        "id": "54d3e89f",
        "outputId": "5611fa1c-8460-4ffb-eb55-d2ee50aadd91"
      },
      "outputs": [
        {
          "data": {
            "text/plain": [
              "{'Apple': 120, 'Mango': 150, 'pinapple': 270}"
            ]
          },
          "execution_count": 132,
          "metadata": {},
          "output_type": "execute_result"
        }
      ],
      "source": [
        "fruits"
      ]
    },
    {
      "cell_type": "code",
      "execution_count": null,
      "id": "2aad8835",
      "metadata": {
        "id": "2aad8835",
        "outputId": "69d9df31-3c49-42f6-ccbf-c3679f177ba3"
      },
      "outputs": [
        {
          "data": {
            "text/plain": [
              "('pinapple', 270)"
            ]
          },
          "execution_count": 133,
          "metadata": {},
          "output_type": "execute_result"
        }
      ],
      "source": [
        "fruits.popitem()"
      ]
    },
    {
      "cell_type": "code",
      "execution_count": null,
      "id": "af2c5032",
      "metadata": {
        "id": "af2c5032",
        "outputId": "f8530515-71dd-4bb1-e926-4adff76416aa"
      },
      "outputs": [
        {
          "data": {
            "text/plain": [
              "{'Apple': 120, 'Mango': 150}"
            ]
          },
          "execution_count": 134,
          "metadata": {},
          "output_type": "execute_result"
        }
      ],
      "source": [
        "fruits"
      ]
    },
    {
      "cell_type": "code",
      "execution_count": null,
      "id": "d51a1081",
      "metadata": {
        "id": "d51a1081"
      },
      "outputs": [],
      "source": [
        "# delete from particular memory: del object"
      ]
    },
    {
      "cell_type": "code",
      "execution_count": null,
      "id": "c0df0ad9",
      "metadata": {
        "id": "c0df0ad9"
      },
      "outputs": [],
      "source": [
        "fruits={\n",
        "    \"Apple\":120,\n",
        "    \"Mango\":150,\n",
        "    \"pinapple\":270\n",
        "}"
      ]
    },
    {
      "cell_type": "code",
      "execution_count": null,
      "id": "8bc4f765",
      "metadata": {
        "id": "8bc4f765",
        "outputId": "c4fb7372-2885-4b34-ca9e-d47a150ee0bd"
      },
      "outputs": [
        {
          "data": {
            "text/plain": [
              "{'Apple': 120, 'Mango': 150, 'pinapple': 270}"
            ]
          },
          "execution_count": 136,
          "metadata": {},
          "output_type": "execute_result"
        }
      ],
      "source": [
        "fruits"
      ]
    },
    {
      "cell_type": "code",
      "execution_count": null,
      "id": "24d7ce87",
      "metadata": {
        "id": "24d7ce87"
      },
      "outputs": [],
      "source": [
        "del fruits"
      ]
    },
    {
      "cell_type": "code",
      "execution_count": null,
      "id": "aa6ab3dc",
      "metadata": {
        "id": "aa6ab3dc",
        "outputId": "7febcd28-6f19-4563-d66b-f6bf55b16791"
      },
      "outputs": [
        {
          "ename": "NameError",
          "evalue": "name 'fruits' is not defined",
          "output_type": "error",
          "traceback": [
            "\u001b[1;31m---------------------------------------------------------------------------\u001b[0m",
            "\u001b[1;31mNameError\u001b[0m                                 Traceback (most recent call last)",
            "Cell \u001b[1;32mIn[138], line 1\u001b[0m\n\u001b[1;32m----> 1\u001b[0m fruits\n",
            "\u001b[1;31mNameError\u001b[0m: name 'fruits' is not defined"
          ]
        }
      ],
      "source": [
        "fruits"
      ]
    },
    {
      "cell_type": "code",
      "execution_count": null,
      "id": "9615684f",
      "metadata": {
        "id": "9615684f"
      },
      "outputs": [],
      "source": [
        "# Itrating a dictinary"
      ]
    },
    {
      "cell_type": "code",
      "execution_count": null,
      "id": "d0f487bb",
      "metadata": {
        "id": "d0f487bb"
      },
      "outputs": [],
      "source": [
        "fruits={\n",
        "    \"Apple\":120,\n",
        "    \"Mango\":150,\n",
        "    \"pinapple\":270,\n",
        "    \"Banana\":70\n",
        "}"
      ]
    },
    {
      "cell_type": "code",
      "execution_count": null,
      "id": "4c50dba3",
      "metadata": {
        "id": "4c50dba3",
        "outputId": "9385c6db-bf34-4199-c9db-13d6e3f65f05"
      },
      "outputs": [
        {
          "name": "stdout",
          "output_type": "stream",
          "text": [
            "Apple\n",
            "Mango\n",
            "pinapple\n",
            "Banana\n"
          ]
        }
      ],
      "source": [
        "for n in fruits:\n",
        "    print(n)"
      ]
    },
    {
      "cell_type": "code",
      "execution_count": null,
      "id": "f6096c9e",
      "metadata": {
        "id": "f6096c9e",
        "outputId": "18f63996-a8b9-4727-8c74-70acfc1e6304"
      },
      "outputs": [
        {
          "name": "stdout",
          "output_type": "stream",
          "text": [
            "Apple 120\n",
            "Mango 150\n",
            "pinapple 270\n",
            "Banana 70\n"
          ]
        }
      ],
      "source": [
        "for n in fruits:\n",
        "    print(n,fruits[n])"
      ]
    },
    {
      "cell_type": "code",
      "execution_count": null,
      "id": "d6654b3d",
      "metadata": {
        "id": "d6654b3d"
      },
      "outputs": [],
      "source": [
        "# using key word direct we can do : dict.items() with the help of key and value"
      ]
    },
    {
      "cell_type": "code",
      "execution_count": null,
      "id": "463b50c6",
      "metadata": {
        "id": "463b50c6",
        "outputId": "8acfbe1c-9022-44dd-d175-2b58b91ee92e"
      },
      "outputs": [
        {
          "name": "stdout",
          "output_type": "stream",
          "text": [
            "Apple 120\n",
            "Mango 150\n",
            "pinapple 270\n",
            "Banana 70\n"
          ]
        }
      ],
      "source": [
        "for key, value in fruits.items():\n",
        "    print(key, value)"
      ]
    },
    {
      "cell_type": "code",
      "execution_count": null,
      "id": "1e0cded1",
      "metadata": {
        "id": "1e0cded1"
      },
      "outputs": [],
      "source": [
        "# more dic method:key, value , item"
      ]
    },
    {
      "cell_type": "code",
      "execution_count": null,
      "id": "9986d36d",
      "metadata": {
        "id": "9986d36d"
      },
      "outputs": [],
      "source": [
        "fruits={\n",
        "    \"Apple\":120,\n",
        "    \"Mango\":150,\n",
        "    \"pinapple\":270,\n",
        "    \"Banana\":70\n",
        "}"
      ]
    },
    {
      "cell_type": "code",
      "execution_count": null,
      "id": "1bee9bbc",
      "metadata": {
        "id": "1bee9bbc",
        "outputId": "420a331a-c1f1-4e9d-840c-24377b0a8cd5"
      },
      "outputs": [
        {
          "data": {
            "text/plain": [
              "dict_keys(['Apple', 'Mango', 'pinapple', 'Banana'])"
            ]
          },
          "execution_count": 148,
          "metadata": {},
          "output_type": "execute_result"
        }
      ],
      "source": [
        "fruits.keys()"
      ]
    },
    {
      "cell_type": "code",
      "execution_count": null,
      "id": "09445079",
      "metadata": {
        "id": "09445079",
        "outputId": "0d159574-e2fa-471b-ed4f-a9818f2f28fd"
      },
      "outputs": [
        {
          "data": {
            "text/plain": [
              "dict_values([120, 150, 270, 70])"
            ]
          },
          "execution_count": 149,
          "metadata": {},
          "output_type": "execute_result"
        }
      ],
      "source": [
        "fruits.values()"
      ]
    },
    {
      "cell_type": "code",
      "execution_count": null,
      "id": "7d539c8c",
      "metadata": {
        "id": "7d539c8c",
        "outputId": "29c33526-8e90-4bb0-d5b8-fadc8b5dca6d"
      },
      "outputs": [
        {
          "data": {
            "text/plain": [
              "dict_items([('Apple', 120), ('Mango', 150), ('pinapple', 270), ('Banana', 70)])"
            ]
          },
          "execution_count": 150,
          "metadata": {},
          "output_type": "execute_result"
        }
      ],
      "source": [
        "fruits.items()"
      ]
    },
    {
      "cell_type": "code",
      "execution_count": null,
      "id": "e9e97c28",
      "metadata": {
        "id": "e9e97c28"
      },
      "outputs": [],
      "source": [
        "#  find frequecy of character in string -problem"
      ]
    },
    {
      "cell_type": "code",
      "execution_count": null,
      "id": "992eed4e",
      "metadata": {
        "id": "992eed4e",
        "outputId": "333143a3-f760-4ec2-a997-124b5a0a9165"
      },
      "outputs": [
        {
          "name": "stdout",
          "output_type": "stream",
          "text": [
            "Niharika\n"
          ]
        }
      ],
      "source": [
        "name=input()"
      ]
    },
    {
      "cell_type": "code",
      "execution_count": null,
      "id": "a779f56a",
      "metadata": {
        "id": "a779f56a",
        "outputId": "92d8dd68-bfab-473e-f23b-1c750352cd43"
      },
      "outputs": [
        {
          "name": "stdout",
          "output_type": "stream",
          "text": [
            "N\n",
            "i\n",
            "h\n",
            "a\n",
            "r\n",
            "i\n",
            "k\n",
            "a\n"
          ]
        }
      ],
      "source": [
        "for i in name:\n",
        "    print(i)"
      ]
    },
    {
      "cell_type": "code",
      "execution_count": null,
      "id": "8f69fe1c",
      "metadata": {
        "id": "8f69fe1c",
        "outputId": "3962b7ba-8ded-4585-a809-187be40f588d"
      },
      "outputs": [
        {
          "name": "stdout",
          "output_type": "stream",
          "text": [
            "{'N': 1, 'i': 2, 'h': 1, 'a': 2, 'r': 1, 'k': 1}\n"
          ]
        }
      ],
      "source": [
        "freq = {}\n",
        "for i in name:\n",
        "# check for presence\n",
        "    if i not in freq:\n",
        "        freq[i]=1\n",
        "        #if prsent increment the freq by factor of 1\n",
        "    else:\n",
        "         freq[i] += 1\n",
        "print(freq)"
      ]
    },
    {
      "cell_type": "code",
      "execution_count": null,
      "id": "99599ae9",
      "metadata": {
        "id": "99599ae9",
        "outputId": "dd05eb01-651c-4446-d4e0-2912ae46b71f"
      },
      "outputs": [
        {
          "name": "stdout",
          "output_type": "stream",
          "text": [
            "This is not a member of the dictionary\n"
          ]
        }
      ],
      "source": [
        "dict1 = {'age': 35, 'name': 'abc', 'salary': 45000}\n",
        "\n",
        "val = dict1['age']\n",
        "\n",
        "if val in dict1:\n",
        "    print('This is a member of the dictionary')\n",
        "else:\n",
        "    print('This is not a member of the dictionary')"
      ]
    },
    {
      "cell_type": "code",
      "execution_count": null,
      "id": "457cc59e",
      "metadata": {
        "id": "457cc59e",
        "outputId": "2ab51ff1-8d0c-4274-855c-db4911c9f40a"
      },
      "outputs": [
        {
          "name": "stdout",
          "output_type": "stream",
          "text": [
            "{'Sheldon': 1, 'Leonard': 2, 'Penny': 2}\n"
          ]
        }
      ],
      "source": [
        "bbt = {'Sheldon': 1, 'Leonard': 2}\n",
        "bbt.update({'Penny': 2})\n",
        "print(bbt)"
      ]
    },
    {
      "cell_type": "code",
      "execution_count": null,
      "id": "3a362f5d",
      "metadata": {
        "id": "3a362f5d"
      },
      "outputs": [],
      "source": [
        "# Sets :Unique collection, unordered, unindexed, Mutable"
      ]
    },
    {
      "cell_type": "code",
      "execution_count": null,
      "id": "9fd7f357",
      "metadata": {
        "id": "9fd7f357"
      },
      "outputs": [],
      "source": [
        "#Creating a empty set"
      ]
    },
    {
      "cell_type": "code",
      "execution_count": null,
      "id": "4576f79d",
      "metadata": {
        "id": "4576f79d",
        "outputId": "e7f2d353-f14b-4118-e40b-4a9176d9b6d6"
      },
      "outputs": [
        {
          "data": {
            "text/plain": [
              "dict"
            ]
          },
          "execution_count": 3,
          "metadata": {},
          "output_type": "execute_result"
        }
      ],
      "source": [
        "s={}\n",
        "type(s)"
      ]
    },
    {
      "cell_type": "code",
      "execution_count": null,
      "id": "d336dc7f",
      "metadata": {
        "id": "d336dc7f",
        "outputId": "2718d100-e2cd-42a2-c3fd-829995356a94"
      },
      "outputs": [
        {
          "name": "stdout",
          "output_type": "stream",
          "text": [
            "set()\n"
          ]
        },
        {
          "data": {
            "text/plain": [
              "set"
            ]
          },
          "execution_count": 4,
          "metadata": {},
          "output_type": "execute_result"
        }
      ],
      "source": [
        "s=set()\n",
        "print(s)\n",
        "type(s)"
      ]
    },
    {
      "cell_type": "code",
      "execution_count": null,
      "id": "4e7781db",
      "metadata": {
        "id": "4e7781db"
      },
      "outputs": [],
      "source": [
        "#non empty set:not repeat set it will give"
      ]
    },
    {
      "cell_type": "code",
      "execution_count": null,
      "id": "20d24156",
      "metadata": {
        "id": "20d24156"
      },
      "outputs": [],
      "source": [
        "s={1,2,3,1,2,4,5,1,2}"
      ]
    },
    {
      "cell_type": "code",
      "execution_count": null,
      "id": "f8c18419",
      "metadata": {
        "id": "f8c18419",
        "outputId": "cb349815-5302-49cc-ddb6-4c98aae5bd6a"
      },
      "outputs": [
        {
          "name": "stdout",
          "output_type": "stream",
          "text": [
            "{1, 2, 3, 4, 5}\n"
          ]
        }
      ],
      "source": [
        "print(s)"
      ]
    },
    {
      "cell_type": "code",
      "execution_count": null,
      "id": "2f77b40b",
      "metadata": {
        "id": "2f77b40b"
      },
      "outputs": [],
      "source": [
        "s=set (\"Niha\")"
      ]
    },
    {
      "cell_type": "code",
      "execution_count": null,
      "id": "c6232165",
      "metadata": {
        "id": "c6232165",
        "outputId": "50a89cfd-2968-4c05-933e-d0b85f2b4e72"
      },
      "outputs": [
        {
          "name": "stdout",
          "output_type": "stream",
          "text": [
            "{'a', 'N', 'h', 'i'}\n"
          ]
        }
      ],
      "source": [
        "print(s)"
      ]
    },
    {
      "cell_type": "code",
      "execution_count": null,
      "id": "833e1f20",
      "metadata": {
        "id": "833e1f20"
      },
      "outputs": [],
      "source": [
        "# Iteration"
      ]
    },
    {
      "cell_type": "code",
      "execution_count": null,
      "id": "380a11ad",
      "metadata": {
        "id": "380a11ad",
        "outputId": "27e1a9ac-4779-45e9-b9d6-c1bbac9ccad0"
      },
      "outputs": [
        {
          "data": {
            "text/plain": [
              "{'N', 'a', 'h', 'i'}"
            ]
          },
          "execution_count": 10,
          "metadata": {},
          "output_type": "execute_result"
        }
      ],
      "source": [
        "s"
      ]
    },
    {
      "cell_type": "code",
      "execution_count": null,
      "id": "9b44a2d0",
      "metadata": {
        "id": "9b44a2d0",
        "outputId": "955e12c6-ba1c-4729-c3bf-11df19d920c5"
      },
      "outputs": [
        {
          "name": "stdout",
          "output_type": "stream",
          "text": [
            "a\n",
            "N\n",
            "h\n",
            "i\n"
          ]
        }
      ],
      "source": [
        "for i in s:\n",
        "    print(i)"
      ]
    },
    {
      "cell_type": "code",
      "execution_count": null,
      "id": "25065068",
      "metadata": {
        "id": "25065068"
      },
      "outputs": [],
      "source": [
        "# Updating set"
      ]
    },
    {
      "cell_type": "code",
      "execution_count": null,
      "id": "3dd74e57",
      "metadata": {
        "id": "3dd74e57"
      },
      "outputs": [],
      "source": [
        "s={1,2,3,1,2,4,5,1,2}"
      ]
    },
    {
      "cell_type": "code",
      "execution_count": null,
      "id": "b0f12357",
      "metadata": {
        "id": "b0f12357",
        "outputId": "7212880b-70ea-4172-bdac-d22dc789aed1"
      },
      "outputs": [
        {
          "name": "stdout",
          "output_type": "stream",
          "text": [
            "{1, 2, 3, 4, 5}\n"
          ]
        }
      ],
      "source": [
        "print(s)"
      ]
    },
    {
      "cell_type": "code",
      "execution_count": null,
      "id": "53c22eeb",
      "metadata": {
        "id": "53c22eeb"
      },
      "outputs": [],
      "source": [
        "s.add(5)\n",
        "s.add(5)\n",
        "s.add(5)\n",
        "s.add(5)"
      ]
    },
    {
      "cell_type": "code",
      "execution_count": null,
      "id": "7bb440f6",
      "metadata": {
        "id": "7bb440f6",
        "outputId": "642e44dc-ca49-48c0-ebfb-5b3049097808"
      },
      "outputs": [
        {
          "data": {
            "text/plain": [
              "{1, 2, 3, 4, 5}"
            ]
          },
          "execution_count": 20,
          "metadata": {},
          "output_type": "execute_result"
        }
      ],
      "source": [
        "s"
      ]
    },
    {
      "cell_type": "code",
      "execution_count": null,
      "id": "8e9ba014",
      "metadata": {
        "id": "8e9ba014"
      },
      "outputs": [],
      "source": [
        "name =\"Niha\""
      ]
    },
    {
      "cell_type": "code",
      "execution_count": null,
      "id": "89eb447a",
      "metadata": {
        "id": "89eb447a"
      },
      "outputs": [],
      "source": [
        "s.update(name)"
      ]
    },
    {
      "cell_type": "code",
      "execution_count": null,
      "id": "717fa7f6",
      "metadata": {
        "id": "717fa7f6",
        "outputId": "041b2d75-9d94-47f5-b550-66514a7869c9"
      },
      "outputs": [
        {
          "data": {
            "text/plain": [
              "{1, 2, 3, 4, 5, 'N', 'a', 'h', 'i'}"
            ]
          },
          "execution_count": 24,
          "metadata": {},
          "output_type": "execute_result"
        }
      ],
      "source": [
        "s"
      ]
    },
    {
      "cell_type": "code",
      "execution_count": null,
      "id": "a3e6ff02",
      "metadata": {
        "id": "a3e6ff02"
      },
      "outputs": [],
      "source": [
        "# Deleting a method :pop- its remove random data , remove- its remove selected data"
      ]
    },
    {
      "cell_type": "code",
      "execution_count": null,
      "id": "996fd0d4",
      "metadata": {
        "id": "996fd0d4"
      },
      "outputs": [],
      "source": [
        "s=set(\"Niharika\")"
      ]
    },
    {
      "cell_type": "code",
      "execution_count": null,
      "id": "82193d43",
      "metadata": {
        "id": "82193d43",
        "outputId": "89a6b886-6916-41c1-9f8d-b4b7c4493d8b"
      },
      "outputs": [
        {
          "name": "stdout",
          "output_type": "stream",
          "text": [
            "{'r', 'N', 'h', 'i', 'a', 'k'}\n"
          ]
        }
      ],
      "source": [
        "print(s)"
      ]
    },
    {
      "cell_type": "code",
      "execution_count": null,
      "id": "395e6f8d",
      "metadata": {
        "id": "395e6f8d",
        "outputId": "17f7667f-526c-4956-ef01-0f29b31da41b"
      },
      "outputs": [
        {
          "data": {
            "text/plain": [
              "{'N', 'a', 'h', 'i', 'k', 'r'}"
            ]
          },
          "execution_count": 28,
          "metadata": {},
          "output_type": "execute_result"
        }
      ],
      "source": [
        "s"
      ]
    },
    {
      "cell_type": "code",
      "execution_count": null,
      "id": "056a76b0",
      "metadata": {
        "id": "056a76b0",
        "outputId": "e60b57cc-d5dc-4daa-d08c-9ddc2b06c4f4"
      },
      "outputs": [
        {
          "data": {
            "text/plain": [
              "'r'"
            ]
          },
          "execution_count": 29,
          "metadata": {},
          "output_type": "execute_result"
        }
      ],
      "source": [
        "s.pop()"
      ]
    },
    {
      "cell_type": "code",
      "execution_count": null,
      "id": "e7ae2bfb",
      "metadata": {
        "id": "e7ae2bfb",
        "outputId": "28f54b48-57b3-4607-9ac8-66d53b9ff53b"
      },
      "outputs": [
        {
          "data": {
            "text/plain": [
              "{'N', 'a', 'h', 'i', 'k'}"
            ]
          },
          "execution_count": 31,
          "metadata": {},
          "output_type": "execute_result"
        }
      ],
      "source": [
        "s"
      ]
    },
    {
      "cell_type": "code",
      "execution_count": null,
      "id": "c77010db",
      "metadata": {
        "id": "c77010db"
      },
      "outputs": [],
      "source": [
        "s.remove(\"N\")"
      ]
    },
    {
      "cell_type": "code",
      "execution_count": null,
      "id": "0a72dbac",
      "metadata": {
        "id": "0a72dbac",
        "outputId": "095565bf-2b87-43d3-9be3-d5ffc2affc24"
      },
      "outputs": [
        {
          "data": {
            "text/plain": [
              "{'a', 'h', 'i', 'k'}"
            ]
          },
          "execution_count": 34,
          "metadata": {},
          "output_type": "execute_result"
        }
      ],
      "source": [
        "s"
      ]
    },
    {
      "cell_type": "code",
      "execution_count": null,
      "id": "83e414a4",
      "metadata": {
        "id": "83e414a4"
      },
      "outputs": [],
      "source": [
        "# Intersection"
      ]
    },
    {
      "cell_type": "code",
      "execution_count": null,
      "id": "ff650cfa",
      "metadata": {
        "id": "ff650cfa"
      },
      "outputs": [],
      "source": [
        "# Suppose scaler has introduced two course python and java and u want to know the which student regaistred for both courses in this case we are using intersection"
      ]
    },
    {
      "cell_type": "code",
      "execution_count": null,
      "id": "87e15c20",
      "metadata": {
        "id": "87e15c20"
      },
      "outputs": [],
      "source": [
        "python={\"Niha\",\"Priya\",\"Piyush\",\"Meena\",\"Nidhi\",\"Garima\",\"Jyoti\"}\n",
        "java={\"Jyoti\", \"Garima\" , \"Chameli\",\"Shanti\",\"Niha\",\"Piyush\"}"
      ]
    },
    {
      "cell_type": "code",
      "execution_count": null,
      "id": "394dfe14",
      "metadata": {
        "id": "394dfe14",
        "outputId": "19789985-fdbe-4349-8779-7ad9fa5aa26d"
      },
      "outputs": [
        {
          "data": {
            "text/plain": [
              "{'Garima', 'Jyoti', 'Niha', 'Piyush'}"
            ]
          },
          "execution_count": 36,
          "metadata": {},
          "output_type": "execute_result"
        }
      ],
      "source": [
        "python.intersection(java)"
      ]
    },
    {
      "cell_type": "code",
      "execution_count": null,
      "id": "fd3ffffd",
      "metadata": {
        "id": "fd3ffffd",
        "outputId": "40924f82-ac56-4b14-e9e5-812d1e45109b"
      },
      "outputs": [
        {
          "data": {
            "text/plain": [
              "{'Garima', 'Jyoti', 'Niha', 'Piyush'}"
            ]
          },
          "execution_count": 37,
          "metadata": {},
          "output_type": "execute_result"
        }
      ],
      "source": [
        "java.intersection(python)"
      ]
    },
    {
      "cell_type": "code",
      "execution_count": null,
      "id": "1c170eed",
      "metadata": {
        "id": "1c170eed"
      },
      "outputs": [],
      "source": [
        "#Union:Suppose you want to konw that which student are enroll in either  python or java course or in both, then we can use union Method"
      ]
    },
    {
      "cell_type": "code",
      "execution_count": null,
      "id": "7f868e43",
      "metadata": {
        "id": "7f868e43"
      },
      "outputs": [],
      "source": [
        "python={\"Niha\",\"Priya\",\"Piyush\",\"Meena\",\"Nidhi\",\"Garima\",\"Jyoti\"}\n",
        "java={\"Jyoti\", \"Garima\" , \"Chameli\",\"Shanti\",\"Niha\",\"Piyush\"}"
      ]
    },
    {
      "cell_type": "code",
      "execution_count": null,
      "id": "e784989e",
      "metadata": {
        "id": "e784989e",
        "outputId": "c5183226-fd5c-4105-d861-98bf25cb0601"
      },
      "outputs": [
        {
          "data": {
            "text/plain": [
              "{'Chameli',\n",
              " 'Garima',\n",
              " 'Jyoti',\n",
              " 'Meena',\n",
              " 'Nidhi',\n",
              " 'Niha',\n",
              " 'Piyush',\n",
              " 'Priya',\n",
              " 'Shanti'}"
            ]
          },
          "execution_count": 39,
          "metadata": {},
          "output_type": "execute_result"
        }
      ],
      "source": [
        "python.union(java)"
      ]
    },
    {
      "cell_type": "code",
      "execution_count": null,
      "id": "1e554ce5",
      "metadata": {
        "id": "1e554ce5"
      },
      "outputs": [],
      "source": [
        "# Difference:Suppose we want to know that set of students who have enrolled the python but not in java or vice-versa"
      ]
    },
    {
      "cell_type": "code",
      "execution_count": null,
      "id": "5748d046",
      "metadata": {
        "id": "5748d046"
      },
      "outputs": [],
      "source": [
        "python={\"Niha\",\"Priya\",\"Piyush\",\"Meena\",\"Nidhi\",\"Garima\",\"Jyoti\"}\n",
        "java={\"Jyoti\", \"Garima\" , \"Chameli\",\"Shanti\",\"Niha\",\"Piyush\"}"
      ]
    },
    {
      "cell_type": "code",
      "execution_count": null,
      "id": "99a535db",
      "metadata": {
        "id": "99a535db",
        "outputId": "59203e90-151c-4a56-9c36-af2468dc4b02"
      },
      "outputs": [
        {
          "data": {
            "text/plain": [
              "{'Meena', 'Nidhi', 'Priya'}"
            ]
          },
          "execution_count": 41,
          "metadata": {},
          "output_type": "execute_result"
        }
      ],
      "source": [
        "python.difference(java)"
      ]
    },
    {
      "cell_type": "code",
      "execution_count": null,
      "id": "4f3f7a75",
      "metadata": {
        "id": "4f3f7a75",
        "outputId": "663c14aa-11cc-4054-9942-2eb76196eace"
      },
      "outputs": [
        {
          "data": {
            "text/plain": [
              "{'Chameli', 'Shanti'}"
            ]
          },
          "execution_count": 42,
          "metadata": {},
          "output_type": "execute_result"
        }
      ],
      "source": [
        "java.difference(python)"
      ]
    },
    {
      "cell_type": "code",
      "execution_count": null,
      "id": "bc2f6c14",
      "metadata": {
        "id": "bc2f6c14"
      },
      "outputs": [],
      "source": [
        "# Challenge- Count number of unique element in a sentence"
      ]
    },
    {
      "cell_type": "code",
      "execution_count": null,
      "id": "d9d72fc6",
      "metadata": {
        "id": "d9d72fc6"
      },
      "outputs": [],
      "source": [
        "# sent=be the change you wish to see in the world"
      ]
    },
    {
      "cell_type": "code",
      "execution_count": null,
      "id": "a20ce5ad",
      "metadata": {
        "id": "a20ce5ad"
      },
      "outputs": [],
      "source": [
        "sent=\"be the change you wish to see in the world\""
      ]
    },
    {
      "cell_type": "code",
      "execution_count": null,
      "id": "95732585",
      "metadata": {
        "id": "95732585",
        "outputId": "ad8e7f26-8ba8-4ce5-d616-63d89d57af04"
      },
      "outputs": [
        {
          "data": {
            "text/plain": [
              "['be', 'the', 'change', 'you', 'wish', 'to', 'see', 'in', 'the', 'world']"
            ]
          },
          "execution_count": 49,
          "metadata": {},
          "output_type": "execute_result"
        }
      ],
      "source": [
        "lst=sent.split()\n",
        "lst"
      ]
    },
    {
      "cell_type": "code",
      "execution_count": null,
      "id": "288851e6",
      "metadata": {
        "id": "288851e6"
      },
      "outputs": [],
      "source": [
        "s=set(lst)"
      ]
    },
    {
      "cell_type": "code",
      "execution_count": null,
      "id": "3a8c808a",
      "metadata": {
        "id": "3a8c808a",
        "outputId": "7315bfae-c559-4805-e108-265d6fe07924"
      },
      "outputs": [
        {
          "data": {
            "text/plain": [
              "{'be', 'change', 'in', 'see', 'the', 'to', 'wish', 'world', 'you'}"
            ]
          },
          "execution_count": 51,
          "metadata": {},
          "output_type": "execute_result"
        }
      ],
      "source": [
        "s"
      ]
    },
    {
      "cell_type": "code",
      "execution_count": null,
      "id": "3eebb1d6",
      "metadata": {
        "id": "3eebb1d6"
      },
      "outputs": [],
      "source": [
        "# len(to find the length)"
      ]
    },
    {
      "cell_type": "code",
      "execution_count": null,
      "id": "5a453bd1",
      "metadata": {
        "id": "5a453bd1",
        "outputId": "96f36f34-5b1b-4edf-c57d-3a37449125da"
      },
      "outputs": [
        {
          "data": {
            "text/plain": [
              "9"
            ]
          },
          "execution_count": 52,
          "metadata": {},
          "output_type": "execute_result"
        }
      ],
      "source": [
        "len(s)"
      ]
    },
    {
      "cell_type": "code",
      "execution_count": null,
      "id": "4084a405",
      "metadata": {
        "id": "4084a405"
      },
      "outputs": [],
      "source": [
        "#final code"
      ]
    },
    {
      "cell_type": "code",
      "execution_count": null,
      "id": "d90fcda4",
      "metadata": {
        "id": "d90fcda4",
        "outputId": "af664f96-a0c0-4dc2-b926-2f5adf6aa958"
      },
      "outputs": [
        {
          "name": "stdout",
          "output_type": "stream",
          "text": [
            "9\n"
          ]
        }
      ],
      "source": [
        "sent=\"be the change you wish to see in the world\"\n",
        "#unique word list\n",
        "\n",
        "lst=sent.split()\n",
        "#convert into set\n",
        "s=set(lst)\n",
        "print(len(s))"
      ]
    },
    {
      "cell_type": "code",
      "execution_count": null,
      "id": "38220a02",
      "metadata": {
        "id": "38220a02"
      },
      "outputs": [],
      "source": [
        "s= set(sent)"
      ]
    },
    {
      "cell_type": "code",
      "execution_count": null,
      "id": "235a6713",
      "metadata": {
        "id": "235a6713",
        "outputId": "19603a5f-776d-433a-9723-fdee2ab72f3f"
      },
      "outputs": [
        {
          "data": {
            "text/plain": [
              "{' ',\n",
              " 'a',\n",
              " 'b',\n",
              " 'c',\n",
              " 'd',\n",
              " 'e',\n",
              " 'g',\n",
              " 'h',\n",
              " 'i',\n",
              " 'l',\n",
              " 'n',\n",
              " 'o',\n",
              " 'r',\n",
              " 's',\n",
              " 't',\n",
              " 'u',\n",
              " 'w',\n",
              " 'y'}"
            ]
          },
          "execution_count": 46,
          "metadata": {},
          "output_type": "execute_result"
        }
      ],
      "source": [
        "s"
      ]
    },
    {
      "cell_type": "code",
      "execution_count": null,
      "id": "4322843d",
      "metadata": {
        "id": "4322843d"
      },
      "outputs": [],
      "source": [
        "#Function"
      ]
    },
    {
      "cell_type": "code",
      "execution_count": null,
      "id": "c3f36b3d",
      "metadata": {
        "id": "c3f36b3d"
      },
      "outputs": [],
      "source": [
        "# function is a user defind piece of code. It works only when its called by users. It helps in reusablity od code and hepls in reducing error in code"
      ]
    },
    {
      "cell_type": "code",
      "execution_count": null,
      "id": "9fb3c4c9",
      "metadata": {
        "id": "9fb3c4c9"
      },
      "outputs": [],
      "source": [
        "# Example:Print , range etc.."
      ]
    },
    {
      "cell_type": "code",
      "execution_count": null,
      "id": "08ee588a",
      "metadata": {
        "id": "08ee588a"
      },
      "outputs": [],
      "source": [
        "# Helps in reusablity of code\n",
        "#make code managable and organized"
      ]
    },
    {
      "cell_type": "code",
      "execution_count": null,
      "id": "baa08ca2",
      "metadata": {
        "id": "baa08ca2"
      },
      "outputs": [],
      "source": [
        "# Function are 2 type\n",
        "#User defined\n",
        "#Buil-in"
      ]
    },
    {
      "cell_type": "code",
      "execution_count": null,
      "id": "3436a36b",
      "metadata": {
        "id": "3436a36b"
      },
      "outputs": [],
      "source": [
        "# Defiing a function:def"
      ]
    },
    {
      "cell_type": "code",
      "execution_count": null,
      "id": "30f1c9be",
      "metadata": {
        "id": "30f1c9be"
      },
      "outputs": [],
      "source": [
        "def Greet():\n",
        "    #This is a body of function\n",
        "    print(\"Hey, have a good day,May god bless you !!!!\")"
      ]
    },
    {
      "cell_type": "code",
      "execution_count": null,
      "id": "c6de483f",
      "metadata": {
        "id": "c6de483f",
        "outputId": "74d3c417-0b4a-4d34-ca2a-52d78e964105"
      },
      "outputs": [
        {
          "name": "stdout",
          "output_type": "stream",
          "text": [
            "Hey, have a good day,May god bless you !!!!\n",
            "None\n"
          ]
        }
      ],
      "source": [
        "print(Greet())"
      ]
    },
    {
      "cell_type": "code",
      "execution_count": null,
      "id": "8ed4bfa1",
      "metadata": {
        "id": "8ed4bfa1"
      },
      "outputs": [],
      "source": [
        "#calling a function using the name of fucntion(Greet() is the function )"
      ]
    },
    {
      "cell_type": "code",
      "execution_count": null,
      "id": "75d05ed4",
      "metadata": {
        "id": "75d05ed4",
        "outputId": "bdbf2e91-5b12-4006-95d1-b1de014aaedf"
      },
      "outputs": [
        {
          "name": "stdout",
          "output_type": "stream",
          "text": [
            "Hey, have a good day,May god bless you !!!!\n"
          ]
        }
      ],
      "source": [
        "Greet()"
      ]
    },
    {
      "cell_type": "code",
      "execution_count": null,
      "id": "c8e0f4cb",
      "metadata": {
        "id": "c8e0f4cb"
      },
      "outputs": [],
      "source": [
        "# Docstring: Additinal information about the function we can use in triple quot\"\"\"\"\"\""
      ]
    },
    {
      "cell_type": "code",
      "execution_count": null,
      "id": "e9c80fd1",
      "metadata": {
        "id": "e9c80fd1"
      },
      "outputs": [],
      "source": [
        "# parameter"
      ]
    },
    {
      "cell_type": "code",
      "execution_count": null,
      "id": "7dbf4012",
      "metadata": {
        "id": "7dbf4012"
      },
      "outputs": [],
      "source": [
        "# These are place holder in function ,when defining them we can call them as parameter ,when passing the actual value we call them as argument."
      ]
    },
    {
      "cell_type": "code",
      "execution_count": null,
      "id": "1b813e49",
      "metadata": {
        "id": "1b813e49"
      },
      "outputs": [],
      "source": [
        "#name is parameter\n",
        "def Greet(name):\n",
        "    #This is a body of function\n",
        "    print(name,\"Hey, have a good day,May god bless you !!!!\")"
      ]
    },
    {
      "cell_type": "code",
      "execution_count": null,
      "id": "709602c7",
      "metadata": {
        "id": "709602c7",
        "outputId": "96586744-a7fe-4799-dc41-8c44e451c030"
      },
      "outputs": [
        {
          "name": "stdout",
          "output_type": "stream",
          "text": [
            "Niha Hey, have a good day,May god bless you !!!!\n"
          ]
        }
      ],
      "source": [
        "Greet(\"Niha\")\n",
        "#Niha is argument"
      ]
    },
    {
      "cell_type": "code",
      "execution_count": null,
      "id": "143f396d",
      "metadata": {
        "id": "143f396d",
        "outputId": "595d16e7-078b-454b-e354-a070e30dd9f4"
      },
      "outputs": [
        {
          "name": "stdout",
          "output_type": "stream",
          "text": [
            "Piyush Hey, have a good day,May god bless you !!!!\n"
          ]
        }
      ],
      "source": [
        "Greet(\"Piyush\")"
      ]
    },
    {
      "cell_type": "code",
      "execution_count": null,
      "id": "0e01ddca",
      "metadata": {
        "id": "0e01ddca"
      },
      "outputs": [],
      "source": [
        "# pass multile function\n",
        "def add (a,b):\n",
        "    c=a+b\n",
        "    print(c)"
      ]
    },
    {
      "cell_type": "code",
      "execution_count": null,
      "id": "66eab2e9",
      "metadata": {
        "id": "66eab2e9",
        "outputId": "ed50117f-7732-41ce-d97f-e4daa75c5398"
      },
      "outputs": [
        {
          "name": "stdout",
          "output_type": "stream",
          "text": [
            "11\n"
          ]
        }
      ],
      "source": [
        "add(5,6)"
      ]
    },
    {
      "cell_type": "code",
      "execution_count": null,
      "id": "6ca05c01",
      "metadata": {
        "id": "6ca05c01"
      },
      "outputs": [],
      "source": [
        "#Return"
      ]
    },
    {
      "cell_type": "code",
      "execution_count": null,
      "id": "7ca5b3c1",
      "metadata": {
        "id": "7ca5b3c1"
      },
      "outputs": [],
      "source": [
        "# A fuction call ends when return statement is executed\n",
        "#It return expression back to the function\n",
        "# The code after return statement are not executed\n",
        "# If there is no return value then function return is none."
      ]
    },
    {
      "cell_type": "code",
      "execution_count": null,
      "id": "eaa01d45",
      "metadata": {
        "id": "eaa01d45"
      },
      "outputs": [],
      "source": [
        "#Return Vs Print\n",
        "def add (a,b):\n",
        "    c=a+b\n",
        "    print(c)"
      ]
    },
    {
      "cell_type": "code",
      "execution_count": null,
      "id": "733058dc",
      "metadata": {
        "id": "733058dc",
        "outputId": "6a713367-6901-491f-e28d-259a1e61e33c"
      },
      "outputs": [
        {
          "name": "stdout",
          "output_type": "stream",
          "text": [
            "40\n"
          ]
        }
      ],
      "source": [
        "add(15,25)"
      ]
    },
    {
      "cell_type": "code",
      "execution_count": null,
      "id": "e9678c5c",
      "metadata": {
        "id": "e9678c5c"
      },
      "outputs": [],
      "source": [
        "#Print()is none type its not giving and data but Return function its give the type of the function"
      ]
    },
    {
      "cell_type": "code",
      "execution_count": null,
      "id": "f363c4da",
      "metadata": {
        "id": "f363c4da"
      },
      "outputs": [],
      "source": [
        "def add (a,b):\n",
        "    c=a+b\n",
        "    return c"
      ]
    },
    {
      "cell_type": "code",
      "execution_count": null,
      "id": "c855289c",
      "metadata": {
        "id": "c855289c",
        "outputId": "a375cb77-c376-4fc4-b93c-108e678634a9"
      },
      "outputs": [
        {
          "name": "stdout",
          "output_type": "stream",
          "text": [
            "90 <class 'int'>\n"
          ]
        }
      ],
      "source": [
        "b=add(23,67)\n",
        "print(b,type(b))"
      ]
    },
    {
      "cell_type": "code",
      "execution_count": null,
      "id": "61fe61ee",
      "metadata": {
        "id": "61fe61ee"
      },
      "outputs": [],
      "source": [
        "# If no return  object then its return Nonetype"
      ]
    },
    {
      "cell_type": "code",
      "execution_count": null,
      "id": "78f2f02e",
      "metadata": {
        "id": "78f2f02e"
      },
      "outputs": [],
      "source": [
        "def func():\n",
        "    return"
      ]
    },
    {
      "cell_type": "code",
      "execution_count": null,
      "id": "b6453b31",
      "metadata": {
        "id": "b6453b31"
      },
      "outputs": [],
      "source": [
        "func()"
      ]
    },
    {
      "cell_type": "code",
      "execution_count": null,
      "id": "8ed5ad5e",
      "metadata": {
        "id": "8ed5ad5e",
        "outputId": "6d890087-8ad3-4949-dc48-7e34c60ef79e"
      },
      "outputs": [
        {
          "name": "stdout",
          "output_type": "stream",
          "text": [
            "None <class 'NoneType'>\n"
          ]
        }
      ],
      "source": [
        "c=func()\n",
        "print(c,type(c))"
      ]
    },
    {
      "cell_type": "code",
      "execution_count": null,
      "id": "c4235797",
      "metadata": {
        "id": "c4235797"
      },
      "outputs": [],
      "source": [
        "# Code after return statement does'nt get executed"
      ]
    },
    {
      "cell_type": "code",
      "execution_count": null,
      "id": "6732a222",
      "metadata": {
        "id": "6732a222"
      },
      "outputs": [],
      "source": [
        "def func():\n",
        "    print(\"Before return\")\n",
        "    return\"Niha\"\n",
        "    print(\"After return\")"
      ]
    },
    {
      "cell_type": "code",
      "execution_count": null,
      "id": "3e9af394",
      "metadata": {
        "id": "3e9af394",
        "outputId": "bb0f38e3-f465-4b8d-ac0e-bdfb1d3a86ef"
      },
      "outputs": [
        {
          "name": "stdout",
          "output_type": "stream",
          "text": [
            "Before return\n"
          ]
        },
        {
          "data": {
            "text/plain": [
              "'Niha'"
            ]
          },
          "execution_count": 81,
          "metadata": {},
          "output_type": "execute_result"
        }
      ],
      "source": [
        "func()"
      ]
    },
    {
      "cell_type": "code",
      "execution_count": null,
      "id": "0470688c",
      "metadata": {
        "id": "0470688c",
        "outputId": "e49d2838-3ec5-4e89-ce5c-b5678d0408c9"
      },
      "outputs": [
        {
          "name": "stdout",
          "output_type": "stream",
          "text": [
            "Before return\n",
            "Niha\n"
          ]
        }
      ],
      "source": [
        "a= func()\n",
        "print(a)"
      ]
    },
    {
      "cell_type": "code",
      "execution_count": null,
      "id": "51eaa721",
      "metadata": {
        "id": "51eaa721",
        "outputId": "8ec29be9-0b38-4c6c-8784-2a986c158797"
      },
      "outputs": [
        {
          "data": {
            "text/plain": [
              "'Niha'"
            ]
          },
          "execution_count": 83,
          "metadata": {},
          "output_type": "execute_result"
        }
      ],
      "source": [
        "a"
      ]
    },
    {
      "cell_type": "code",
      "execution_count": null,
      "id": "e2b9f05c",
      "metadata": {
        "id": "e2b9f05c"
      },
      "outputs": [],
      "source": [
        "# Returning multiple values"
      ]
    },
    {
      "cell_type": "code",
      "execution_count": null,
      "id": "1546e73e",
      "metadata": {
        "id": "1546e73e"
      },
      "outputs": [],
      "source": [
        "def intro (name,age,hobby):\n",
        "    return name,age,hobby"
      ]
    },
    {
      "cell_type": "code",
      "execution_count": null,
      "id": "965b29cc",
      "metadata": {
        "id": "965b29cc"
      },
      "outputs": [],
      "source": [
        "c,d,e = intro(\"Niha\",\"34\",\"watching movies\")"
      ]
    },
    {
      "cell_type": "code",
      "execution_count": null,
      "id": "ba34f632",
      "metadata": {
        "id": "ba34f632",
        "outputId": "2e3bb1e5-8751-4efc-a9a6-b1a46a953742"
      },
      "outputs": [
        {
          "name": "stdout",
          "output_type": "stream",
          "text": [
            "Niha 34 watching movies\n"
          ]
        }
      ],
      "source": [
        "print(c,d,e)"
      ]
    },
    {
      "cell_type": "code",
      "execution_count": null,
      "id": "a6c1a9a7",
      "metadata": {
        "id": "a6c1a9a7"
      },
      "outputs": [],
      "source": [
        "a,b=2,3"
      ]
    },
    {
      "cell_type": "code",
      "execution_count": null,
      "id": "8a2fc0ab",
      "metadata": {
        "id": "8a2fc0ab",
        "outputId": "422c36f2-5c23-4f81-8197-8615a440c798"
      },
      "outputs": [
        {
          "name": "stdout",
          "output_type": "stream",
          "text": [
            "2 3\n"
          ]
        }
      ],
      "source": [
        "print(a,b)"
      ]
    },
    {
      "cell_type": "code",
      "execution_count": null,
      "id": "265c4c92",
      "metadata": {
        "id": "265c4c92"
      },
      "outputs": [],
      "source": [
        "c= intro(\"Niha\",\"34\",\"watching movies\")"
      ]
    },
    {
      "cell_type": "code",
      "execution_count": null,
      "id": "0fb4d1ee",
      "metadata": {
        "id": "0fb4d1ee",
        "outputId": "92c36241-375b-4d60-abef-6305a5e02515"
      },
      "outputs": [
        {
          "name": "stdout",
          "output_type": "stream",
          "text": [
            "('Niha', '34', 'watching movies') <class 'tuple'>\n"
          ]
        }
      ],
      "source": [
        "print(c,type(c))"
      ]
    },
    {
      "cell_type": "code",
      "execution_count": null,
      "id": "3ea886f2",
      "metadata": {
        "id": "3ea886f2"
      },
      "outputs": [],
      "source": [
        "#Scope of a variabe"
      ]
    },
    {
      "cell_type": "code",
      "execution_count": null,
      "id": "61d70804",
      "metadata": {
        "id": "61d70804"
      },
      "outputs": [],
      "source": [
        "# 2 type of variable: Local & Global\n",
        "#Gobal variable can used anywhere in program\n",
        "# local varibale can only be used locally inside a program(fuction)"
      ]
    },
    {
      "cell_type": "code",
      "execution_count": null,
      "id": "2e6043b5",
      "metadata": {
        "id": "2e6043b5",
        "outputId": "417158f7-f58d-4d9d-963b-0582ab27627a"
      },
      "outputs": [
        {
          "name": "stdout",
          "output_type": "stream",
          "text": [
            "5\n",
            "5\n"
          ]
        }
      ],
      "source": [
        "# a can be used anywhere in the program\n",
        "a=5\n",
        "def func():\n",
        "    print(a)\n",
        "func()\n",
        "print(a)"
      ]
    },
    {
      "cell_type": "code",
      "execution_count": null,
      "id": "deb595cd",
      "metadata": {
        "id": "deb595cd",
        "outputId": "710cc8f3-d66e-4ec6-e8d6-a24df6322499"
      },
      "outputs": [
        {
          "name": "stdout",
          "output_type": "stream",
          "text": [
            "3\n",
            "5\n"
          ]
        }
      ],
      "source": [
        "a=5\n",
        "def func():\n",
        "# x is a local variable to this function\n",
        "    x=3\n",
        "    print(x)\n",
        "\n",
        "\n",
        "func()\n",
        "print(a)\n",
        "#print(x)"
      ]
    },
    {
      "cell_type": "code",
      "execution_count": null,
      "id": "6b7c0aca",
      "metadata": {
        "id": "6b7c0aca",
        "outputId": "20c7b321-2516-4f67-a341-d2e8c18d012d"
      },
      "outputs": [
        {
          "name": "stdout",
          "output_type": "stream",
          "text": [
            "80\n",
            "5\n"
          ]
        }
      ],
      "source": [
        "#a=5 is global variable\n",
        "a=5\n",
        "def func():\n",
        "    a=80 #local variable\n",
        "    print(a)\n",
        "\n",
        "func()\n",
        "print(a)"
      ]
    },
    {
      "cell_type": "code",
      "execution_count": null,
      "id": "e4f0039e",
      "metadata": {
        "id": "e4f0039e",
        "outputId": "81f6d366-feb5-49ad-d1c4-16f6d85f9b09"
      },
      "outputs": [
        {
          "name": "stdout",
          "output_type": "stream",
          "text": [
            "8\n",
            "50\n",
            "50\n"
          ]
        }
      ],
      "source": [
        "a=8\n",
        "def func():\n",
        "    global a\n",
        "    a=50 #Global variable\n",
        "    print(a)\n",
        "\n",
        "#func()\n",
        "print(a)\n",
        "func()\n",
        "print(a)"
      ]
    },
    {
      "cell_type": "code",
      "execution_count": null,
      "id": "2cec4b87",
      "metadata": {
        "id": "2cec4b87"
      },
      "outputs": [],
      "source": [
        "# Lambda function: These are mainly used where we need nameless functions for short period of time"
      ]
    },
    {
      "cell_type": "code",
      "execution_count": null,
      "id": "619e2e0b",
      "metadata": {
        "id": "619e2e0b"
      },
      "outputs": [],
      "source": [
        "def add (a,b):\n",
        "    return a+b"
      ]
    },
    {
      "cell_type": "code",
      "execution_count": null,
      "id": "0c74b841",
      "metadata": {
        "id": "0c74b841",
        "outputId": "f153a4bf-766a-419f-b901-268845bf27e8"
      },
      "outputs": [
        {
          "data": {
            "text/plain": [
              "48"
            ]
          },
          "execution_count": 2,
          "metadata": {},
          "output_type": "execute_result"
        }
      ],
      "source": [
        "add (25,23)"
      ]
    },
    {
      "cell_type": "code",
      "execution_count": null,
      "id": "d0ea5bfb",
      "metadata": {
        "id": "d0ea5bfb",
        "outputId": "6f0d101d-c07f-40c1-a644-592c14ac726f"
      },
      "outputs": [
        {
          "data": {
            "text/plain": [
              "7"
            ]
          },
          "execution_count": 4,
          "metadata": {},
          "output_type": "execute_result"
        }
      ],
      "source": [
        "(lambda a,b:a+b)(3,4)"
      ]
    },
    {
      "cell_type": "code",
      "execution_count": null,
      "id": "81b29e85",
      "metadata": {
        "id": "81b29e85"
      },
      "outputs": [],
      "source": [
        "func= lambda a,b : a+b"
      ]
    },
    {
      "cell_type": "code",
      "execution_count": null,
      "id": "b390b9be",
      "metadata": {
        "id": "b390b9be",
        "outputId": "93b5ca6c-1402-44c1-d53c-bc92f7793219"
      },
      "outputs": [
        {
          "data": {
            "text/plain": [
              "function"
            ]
          },
          "execution_count": 6,
          "metadata": {},
          "output_type": "execute_result"
        }
      ],
      "source": [
        "type(func)"
      ]
    },
    {
      "cell_type": "code",
      "execution_count": null,
      "id": "24a35aa6",
      "metadata": {
        "id": "24a35aa6",
        "outputId": "3971dedd-0bf6-4241-a649-c5fc80a896bb"
      },
      "outputs": [
        {
          "data": {
            "text/plain": [
              "18"
            ]
          },
          "execution_count": 7,
          "metadata": {},
          "output_type": "execute_result"
        }
      ],
      "source": [
        "func(10,8)"
      ]
    },
    {
      "cell_type": "code",
      "execution_count": null,
      "id": "af56bded",
      "metadata": {
        "id": "af56bded"
      },
      "outputs": [],
      "source": [
        "def larger(a,b):\n",
        "    if a>b:\n",
        "        return a\n",
        "    else:\n",
        "        return b"
      ]
    },
    {
      "cell_type": "code",
      "execution_count": null,
      "id": "8df04ec7",
      "metadata": {
        "id": "8df04ec7",
        "outputId": "e5dc2095-7abe-45e8-fbe9-e91890fe3ea0"
      },
      "outputs": [
        {
          "data": {
            "text/plain": [
              "56"
            ]
          },
          "execution_count": 11,
          "metadata": {},
          "output_type": "execute_result"
        }
      ],
      "source": [
        "larger (5,56)"
      ]
    },
    {
      "cell_type": "code",
      "execution_count": null,
      "id": "523fcfc3",
      "metadata": {
        "id": "523fcfc3",
        "outputId": "768823d6-7c8f-4801-c334-a786a2e1c3cd"
      },
      "outputs": [
        {
          "data": {
            "text/plain": [
              "89"
            ]
          },
          "execution_count": 15,
          "metadata": {},
          "output_type": "execute_result"
        }
      ],
      "source": [
        "(lambda a,b: a if a>b else b)(89,3)"
      ]
    },
    {
      "cell_type": "code",
      "execution_count": null,
      "id": "a451c683",
      "metadata": {
        "id": "a451c683"
      },
      "outputs": [],
      "source": [
        "large =lambda a,b: a if a>b else b"
      ]
    },
    {
      "cell_type": "code",
      "execution_count": null,
      "id": "0dd7d0e9",
      "metadata": {
        "id": "0dd7d0e9",
        "outputId": "46c25f92-8541-4132-aa20-bb0f64e8b07c"
      },
      "outputs": [
        {
          "data": {
            "text/plain": [
              "5"
            ]
          },
          "execution_count": 17,
          "metadata": {},
          "output_type": "execute_result"
        }
      ],
      "source": [
        "large (5,4)"
      ]
    },
    {
      "cell_type": "code",
      "execution_count": null,
      "id": "9bdb9b4b",
      "metadata": {
        "id": "9bdb9b4b"
      },
      "outputs": [],
      "source": [
        "lst=[(12,56),(2,4),(5,3)]"
      ]
    },
    {
      "cell_type": "code",
      "execution_count": null,
      "id": "f5678dc5",
      "metadata": {
        "id": "f5678dc5"
      },
      "outputs": [],
      "source": [
        "lst.sort(key=lambda x:x[1])"
      ]
    },
    {
      "cell_type": "code",
      "execution_count": null,
      "id": "dec9b229",
      "metadata": {
        "id": "dec9b229",
        "outputId": "85be8636-53e2-4942-dea6-88d25da90497"
      },
      "outputs": [
        {
          "data": {
            "text/plain": [
              "[(5, 3), (2, 4), (12, 56)]"
            ]
          },
          "execution_count": 25,
          "metadata": {},
          "output_type": "execute_result"
        }
      ],
      "source": [
        "lst"
      ]
    },
    {
      "cell_type": "code",
      "execution_count": null,
      "id": "fa8822e1",
      "metadata": {
        "id": "fa8822e1"
      },
      "outputs": [],
      "source": [
        "lst.sort()"
      ]
    },
    {
      "cell_type": "code",
      "execution_count": null,
      "id": "37fbefac",
      "metadata": {
        "id": "37fbefac",
        "outputId": "1eb920fa-d9f7-4380-cd42-0c10d2d37c8f"
      },
      "outputs": [
        {
          "data": {
            "text/plain": [
              "[(2, 4), (5, 3), (12, 56)]"
            ]
          },
          "execution_count": 20,
          "metadata": {},
          "output_type": "execute_result"
        }
      ],
      "source": [
        "lst"
      ]
    },
    {
      "cell_type": "code",
      "execution_count": null,
      "id": "fec1543c",
      "metadata": {
        "id": "fec1543c",
        "outputId": "7bd6aa61-1e04-4e8f-f1b1-1d8106eccfeb"
      },
      "outputs": [
        {
          "data": {
            "text/plain": [
              "[(2, 4), (5, 3), (12, 56)]"
            ]
          },
          "execution_count": 21,
          "metadata": {},
          "output_type": "execute_result"
        }
      ],
      "source": [
        "lst"
      ]
    },
    {
      "cell_type": "code",
      "execution_count": null,
      "id": "a667fe36",
      "metadata": {
        "id": "a667fe36"
      },
      "outputs": [],
      "source": [
        "#write a python function to print the even number from a given list\n",
        "# input =[1,2,3,4,5,6]\n",
        "#output =2 4 6"
      ]
    },
    {
      "cell_type": "code",
      "execution_count": null,
      "id": "3007cd56",
      "metadata": {
        "id": "3007cd56"
      },
      "outputs": [],
      "source": [
        "def even (li):\n",
        "    #Iterate on the list Li\n",
        "    for i in li:\n",
        "        #check for even elements\n",
        "        if i %2 ==0:\n",
        "            print (i,end=\" \")"
      ]
    },
    {
      "cell_type": "code",
      "execution_count": null,
      "id": "b3aa6f8f",
      "metadata": {
        "id": "b3aa6f8f"
      },
      "outputs": [],
      "source": [
        "lst=[1,2,3,4,5,6]"
      ]
    },
    {
      "cell_type": "code",
      "execution_count": null,
      "id": "fc655f67",
      "metadata": {
        "id": "fc655f67",
        "outputId": "51d967ce-8607-47e4-afdc-ee19336150d9"
      },
      "outputs": [
        {
          "name": "stdout",
          "output_type": "stream",
          "text": [
            "2 4 6 "
          ]
        }
      ],
      "source": [
        "even(lst)"
      ]
    },
    {
      "cell_type": "code",
      "execution_count": null,
      "id": "82cc754d",
      "metadata": {
        "id": "82cc754d"
      },
      "outputs": [],
      "source": [
        "# challenge:write a python function that take a list and return a new list with unique elements of the first list\n",
        "# input=[1,2,3,1,2,4]\n",
        "# output =[1,2,3,4]"
      ]
    },
    {
      "cell_type": "code",
      "execution_count": null,
      "id": "77012d4d",
      "metadata": {
        "id": "77012d4d"
      },
      "outputs": [],
      "source": [
        "lst = [1,2,3,1,2,4]"
      ]
    },
    {
      "cell_type": "code",
      "execution_count": null,
      "id": "0f23b545",
      "metadata": {
        "id": "0f23b545"
      },
      "outputs": [],
      "source": [
        "def unique (li):\n",
        "\n",
        "\n",
        "    new = []\n",
        "    #Iterate on the li list\n",
        "    for i in li:\n",
        "        # we are adding only unique element in the new  list\n",
        "        if i not in new:\n",
        "            new.append(i)\n",
        "\n",
        "\n",
        "            #return new list\n",
        "            return new\n",
        "\n",
        ""
      ]
    },
    {
      "cell_type": "code",
      "execution_count": null,
      "id": "9a185554",
      "metadata": {
        "id": "9a185554",
        "outputId": "1b5055a4-bc99-4296-9d0a-d7056d030a50"
      },
      "outputs": [
        {
          "data": {
            "text/plain": [
              "[1]"
            ]
          },
          "execution_count": 53,
          "metadata": {},
          "output_type": "execute_result"
        }
      ],
      "source": [
        "unique(lst)"
      ]
    },
    {
      "cell_type": "code",
      "execution_count": null,
      "id": "3c25e8e8",
      "metadata": {
        "id": "3c25e8e8",
        "outputId": "db8d553b-dfe5-4f3c-d691-4a99852d7fd7"
      },
      "outputs": [
        {
          "data": {
            "text/plain": [
              "[1, 2, 3, 1, 2, 4]"
            ]
          },
          "execution_count": 54,
          "metadata": {},
          "output_type": "execute_result"
        }
      ],
      "source": [
        "lst"
      ]
    },
    {
      "cell_type": "code",
      "execution_count": null,
      "id": "62ea3c28",
      "metadata": {
        "id": "62ea3c28",
        "outputId": "d9a20ce8-c998-4b45-c1e3-eaa6d94a4bb4"
      },
      "outputs": [
        {
          "data": {
            "text/plain": [
              "True"
            ]
          },
          "execution_count": 55,
          "metadata": {},
          "output_type": "execute_result"
        }
      ],
      "source": [
        "12 not in lst"
      ]
    },
    {
      "cell_type": "code",
      "execution_count": null,
      "id": "303c4a10",
      "metadata": {
        "id": "303c4a10"
      },
      "outputs": [],
      "source": [
        "# Argument vs parameter"
      ]
    },
    {
      "cell_type": "code",
      "execution_count": null,
      "id": "c50600f7",
      "metadata": {
        "id": "c50600f7"
      },
      "outputs": [],
      "source": [
        "#Parameter:The value we  pass while defining a function\n",
        "# Argument : The actual value we pass when calling a function"
      ]
    },
    {
      "cell_type": "code",
      "execution_count": null,
      "id": "a18528bb",
      "metadata": {
        "id": "a18528bb"
      },
      "outputs": [],
      "source": [
        "# This name variable is know as function\n",
        "def func(name):\n",
        "    print(\"Hey, my name is \", name )"
      ]
    },
    {
      "cell_type": "code",
      "execution_count": null,
      "id": "f9403402",
      "metadata": {
        "id": "f9403402"
      },
      "outputs": [],
      "source": [
        "# calling a function"
      ]
    },
    {
      "cell_type": "code",
      "execution_count": null,
      "id": "204be8f5",
      "metadata": {
        "id": "204be8f5",
        "outputId": "e20495dc-6d35-49f8-b746-1fa057655e9c"
      },
      "outputs": [
        {
          "name": "stdout",
          "output_type": "stream",
          "text": [
            "Hey, my name is  Piyush Smart\n"
          ]
        }
      ],
      "source": [
        "# THE ACTUAL VALUE KNOWN AS ARGUMENT\n",
        "func(\"Piyush Smart\")"
      ]
    },
    {
      "cell_type": "code",
      "execution_count": null,
      "id": "7452bba4",
      "metadata": {
        "id": "7452bba4"
      },
      "outputs": [],
      "source": [
        "# Positinal argument :The value you  pass the calling a function are matched acording to their postions"
      ]
    },
    {
      "cell_type": "code",
      "execution_count": null,
      "id": "5a6eab70",
      "metadata": {
        "id": "5a6eab70"
      },
      "outputs": [],
      "source": [
        "def intro (name,hobby):\n",
        "    print(\"Hey my name is \",name)\n",
        "    print (\"And my hobby is \", hobby)\n"
      ]
    },
    {
      "cell_type": "code",
      "execution_count": null,
      "id": "e0484b07",
      "metadata": {
        "id": "e0484b07",
        "outputId": "327092e9-8a0d-4284-9077-4fb01b99774b"
      },
      "outputs": [
        {
          "name": "stdout",
          "output_type": "stream",
          "text": [
            "Hey my name is  Niha\n",
            "And my hobby is  Boxing\n"
          ]
        }
      ],
      "source": [
        "intro(\"Niha\",\"Boxing\")"
      ]
    },
    {
      "cell_type": "code",
      "execution_count": null,
      "id": "40e5590b",
      "metadata": {
        "id": "40e5590b"
      },
      "outputs": [],
      "source": [
        "# Default argument:Giving default value to the parameter\n",
        "#For these parameter passing the value in argument  is optional"
      ]
    },
    {
      "cell_type": "code",
      "execution_count": null,
      "id": "991eaef1",
      "metadata": {
        "id": "991eaef1"
      },
      "outputs": [],
      "source": [
        "def intro (name,hobby =\"Reading\"):\n",
        "    print(\"Hey my name is \",name)\n",
        "    print (\"And my hobby is \", hobby)"
      ]
    },
    {
      "cell_type": "code",
      "execution_count": null,
      "id": "7422a5fb",
      "metadata": {
        "id": "7422a5fb",
        "outputId": "6f2a3702-b60d-4734-a186-2668b1472601"
      },
      "outputs": [
        {
          "name": "stdout",
          "output_type": "stream",
          "text": [
            "Hey my name is  Niha\n",
            "And my hobby is  Boxing\n"
          ]
        }
      ],
      "source": [
        "intro(\"Niha\",\"Boxing\")"
      ]
    },
    {
      "cell_type": "code",
      "execution_count": null,
      "id": "25ceabac",
      "metadata": {
        "id": "25ceabac"
      },
      "outputs": [],
      "source": [
        "#Positioning of default and non default arguments"
      ]
    },
    {
      "cell_type": "code",
      "execution_count": null,
      "id": "2327a703",
      "metadata": {
        "id": "2327a703"
      },
      "outputs": [],
      "source": [
        "#Arbitrary argument"
      ]
    },
    {
      "cell_type": "code",
      "execution_count": null,
      "id": "403ea168",
      "metadata": {
        "id": "403ea168"
      },
      "outputs": [],
      "source": [
        "# When number of values you want to pass is not known\n",
        "#Like we pass multiple values in print function\n",
        "#The values are being stored in tuple"
      ]
    },
    {
      "cell_type": "code",
      "execution_count": null,
      "id": "7f9d6ad6",
      "metadata": {
        "id": "7f9d6ad6"
      },
      "outputs": [],
      "source": [
        "def test(*args):\n",
        "    print (args)\n",
        "    print(type(args))\n",
        "\n",
        "    #Iterate and print\n",
        "    for i in args:\n",
        "        #print(i, end=\" \")\n",
        "        print(i*i,end=\" \")"
      ]
    },
    {
      "cell_type": "code",
      "execution_count": null,
      "id": "261ec8bb",
      "metadata": {
        "id": "261ec8bb",
        "outputId": "bffb5c28-41b6-4db2-9559-1e4d73178315"
      },
      "outputs": [
        {
          "name": "stdout",
          "output_type": "stream",
          "text": [
            "(2, 3, 4)\n",
            "<class 'tuple'>\n",
            "4 9 16 "
          ]
        }
      ],
      "source": [
        "test(2,3,4)"
      ]
    },
    {
      "cell_type": "code",
      "execution_count": null,
      "id": "38880b8c",
      "metadata": {
        "id": "38880b8c"
      },
      "outputs": [],
      "source": [
        "#Keyword argument\n",
        "# variable number of key word argument\n",
        "#It stores the data in Dictinary format"
      ]
    },
    {
      "cell_type": "code",
      "execution_count": null,
      "id": "c7e0f20e",
      "metadata": {
        "id": "c7e0f20e"
      },
      "outputs": [],
      "source": [
        "def intro (**kwargs):\n",
        "    #print(kwargs)\n",
        "    #print(type(kwargs))\n",
        "\n",
        "    for key, values in kwargs.items():\n",
        "        print(key,values , sep=\" : \")"
      ]
    },
    {
      "cell_type": "code",
      "execution_count": null,
      "id": "f00bf59a",
      "metadata": {
        "id": "f00bf59a",
        "outputId": "457822d7-0dda-4d1b-b3ff-89771e7c9857"
      },
      "outputs": [
        {
          "name": "stdout",
          "output_type": "stream",
          "text": [
            "{}\n",
            "<class 'dict'>\n"
          ]
        }
      ],
      "source": [
        "intro()"
      ]
    },
    {
      "cell_type": "code",
      "execution_count": null,
      "id": "695aa37a",
      "metadata": {
        "id": "695aa37a",
        "outputId": "951a850a-beab-411b-8901-749db8d86090"
      },
      "outputs": [
        {
          "name": "stdout",
          "output_type": "stream",
          "text": [
            "name : Niha\n",
            "age : 35\n",
            "hobbies : ['Swimming', 'Reading', 'Boxing']\n"
          ]
        }
      ],
      "source": [
        "intro(name=\"Niha\",age=35,hobbies= [\"Swimming\",\"Reading\",\"Boxing\"])"
      ]
    },
    {
      "cell_type": "code",
      "execution_count": null,
      "id": "448a5a66",
      "metadata": {
        "id": "448a5a66"
      },
      "outputs": [],
      "source": [
        "def mix(a,b,c, age=24, *args,**kwargs):\n",
        "        print(a,b,c)\n",
        "        print(age)\n",
        "        print(args)\n",
        "        print(kwargs)"
      ]
    },
    {
      "cell_type": "code",
      "execution_count": null,
      "id": "02846322",
      "metadata": {
        "id": "02846322",
        "outputId": "796c5796-d9ab-48cd-8fe3-5c95bceedb3b"
      },
      "outputs": [
        {
          "name": "stdout",
          "output_type": "stream",
          "text": [
            "2 4 5\n",
            "34\n",
            "(56, 78, 98)\n",
            "{'name': 'Niha'}\n"
          ]
        }
      ],
      "source": [
        "mix(2,4,5,34,56,78,98,name=\"Niha\")"
      ]
    },
    {
      "cell_type": "code",
      "execution_count": null,
      "id": "7646cc72",
      "metadata": {
        "id": "7646cc72",
        "outputId": "c74d145b-7c03-49f4-be37-76cdd3bd9812"
      },
      "outputs": [
        {
          "name": "stdout",
          "output_type": "stream",
          "text": [
            "68.0\n"
          ]
        }
      ],
      "source": [
        "def convert(t):\n",
        "    return t*9/5 + 32\n",
        "\n",
        "print(convert(20))"
      ]
    },
    {
      "cell_type": "code",
      "execution_count": null,
      "id": "eb1860cd",
      "metadata": {
        "id": "eb1860cd"
      },
      "outputs": [],
      "source": [
        "# OOPs;\n",
        "#Object oriented programming\n",
        "#The principles of oops are based on 4 pillers aprat from Class and object\n",
        "#A class has attributes and behaviour"
      ]
    },
    {
      "cell_type": "code",
      "execution_count": null,
      "id": "9703876d",
      "metadata": {
        "id": "9703876d"
      },
      "outputs": [],
      "source": [
        "# Absraction: Display only essential informaton and hiding the details\n",
        "# Example: Car will accelerate but internal working of engine are not exposed"
      ]
    },
    {
      "cell_type": "code",
      "execution_count": null,
      "id": "1033db14",
      "metadata": {
        "id": "1033db14"
      },
      "outputs": [],
      "source": [
        "# Encapsulation:\n",
        "# Bundling of data into a single unit\n",
        "#Bundling of all methods that can act on a object of the data\n",
        "# Car can have color, egine,break and other methods"
      ]
    },
    {
      "cell_type": "code",
      "execution_count": null,
      "id": "96980232",
      "metadata": {
        "id": "96980232"
      },
      "outputs": [],
      "source": [
        "#Inhertance\n",
        "#When a class drives from another class.\n",
        "#Any new car company can inherit all the information from car class\n"
      ]
    },
    {
      "cell_type": "code",
      "execution_count": null,
      "id": "5df13003",
      "metadata": {
        "id": "5df13003"
      },
      "outputs": [],
      "source": [
        "#POlymorphism\n",
        "#The word polymorphism means having many forms\n",
        "#Same class method can work differently for different objects"
      ]
    },
    {
      "cell_type": "code",
      "execution_count": null,
      "id": "1ed6cc69",
      "metadata": {
        "id": "1ed6cc69"
      },
      "outputs": [],
      "source": [
        "# Creating classs:\n",
        "# Its a blueprint to create a object ,the class keyword used to create classes\n",
        "#BY general convntion we start name with capital letter ie int, float, string etc"
      ]
    },
    {
      "cell_type": "code",
      "execution_count": null,
      "id": "768c4f84",
      "metadata": {
        "id": "768c4f84"
      },
      "outputs": [],
      "source": [
        "class Car:\n",
        "    pass"
      ]
    },
    {
      "cell_type": "code",
      "execution_count": null,
      "id": "e6b8104f",
      "metadata": {
        "id": "e6b8104f"
      },
      "outputs": [],
      "source": [
        "#Objects:Objects are instances or entites of class.\n",
        "# IT has all the properties of class ie 1,2 are object of int class\n"
      ]
    },
    {
      "cell_type": "code",
      "execution_count": null,
      "id": "5cd6c994",
      "metadata": {
        "id": "5cd6c994"
      },
      "outputs": [],
      "source": [
        "#honda=Car()"
      ]
    },
    {
      "cell_type": "code",
      "execution_count": null,
      "id": "e52834e9",
      "metadata": {
        "id": "e52834e9"
      },
      "outputs": [],
      "source": [
        "# Constructor :is a special method used to crate and analyze an obhject of a class\n",
        "#This method is define in a class\n",
        "#The constructor is executed automatically at the time of object creation"
      ]
    },
    {
      "cell_type": "code",
      "execution_count": null,
      "id": "b1a90092",
      "metadata": {
        "id": "b1a90092",
        "outputId": "428cd641-3ef6-4ed4-b0c8-4e29c93eccb2"
      },
      "outputs": [
        {
          "ename": "NameError",
          "evalue": "name 'self' is not defined",
          "output_type": "error",
          "traceback": [
            "\u001b[1;31m---------------------------------------------------------------------------\u001b[0m",
            "\u001b[1;31mNameError\u001b[0m                                 Traceback (most recent call last)",
            "Cell \u001b[1;32mIn[13], line 1\u001b[0m\n\u001b[1;32m----> 1\u001b[0m Niha \u001b[38;5;241m=\u001b[39m Human( \u001b[38;5;28mself\u001b[39m,\u001b[38;5;124m\"\u001b[39m\u001b[38;5;124mNiha\u001b[39m\u001b[38;5;124m\"\u001b[39m,\u001b[38;5;241m34\u001b[39m,\u001b[38;5;124m\"\u001b[39m\u001b[38;5;124mCricket\u001b[39m\u001b[38;5;124m\"\u001b[39m)\n",
            "\u001b[1;31mNameError\u001b[0m: name 'self' is not defined"
          ]
        }
      ],
      "source": [
        "Niha = Human( self,\"Niha\",34,\"Cricket\")"
      ]
    },
    {
      "cell_type": "code",
      "execution_count": null,
      "id": "4bf6e479",
      "metadata": {
        "id": "4bf6e479"
      },
      "outputs": [],
      "source": [
        "class Human:\n",
        "\n",
        "       def __init__(self):\n",
        "            print(\"This will always execute\")\n",
        ""
      ]
    },
    {
      "cell_type": "code",
      "execution_count": null,
      "id": "e8e402c6",
      "metadata": {
        "id": "e8e402c6",
        "outputId": "a76c71f3-cba9-42c5-c638-08dc912dec7c"
      },
      "outputs": [
        {
          "name": "stdout",
          "output_type": "stream",
          "text": [
            "This will always execute\n"
          ]
        }
      ],
      "source": [
        "rahul = Human()"
      ]
    },
    {
      "cell_type": "code",
      "execution_count": null,
      "id": "ebb614a7",
      "metadata": {
        "id": "ebb614a7"
      },
      "outputs": [],
      "source": [
        "class Human:\n",
        "\n",
        "    #I want some properties to be with every human obj\n",
        "    # Dunder-\n",
        "    def __init__(self,name ,age , hobby):\n",
        "        self.name = name\n",
        "        self.age = age\n",
        "        self.hobby = hobby"
      ]
    },
    {
      "cell_type": "code",
      "execution_count": null,
      "id": "cd9f4ae6",
      "metadata": {
        "id": "cd9f4ae6",
        "outputId": "7785fe14-7004-4651-b356-d2f899608fb0"
      },
      "outputs": [
        {
          "name": "stdout",
          "output_type": "stream",
          "text": [
            "Niha\n"
          ]
        }
      ],
      "source": [
        "N = Human(\"Niha\",34,\"Cricket\")\n",
        "print(N.name)"
      ]
    },
    {
      "cell_type": "code",
      "execution_count": null,
      "id": "7c5d7793",
      "metadata": {
        "id": "7c5d7793",
        "outputId": "866d3f43-a757-402b-be7b-2a16188fe129"
      },
      "outputs": [
        {
          "name": "stdout",
          "output_type": "stream",
          "text": [
            "38\n"
          ]
        }
      ],
      "source": [
        "C=Human(\"Piyush\",38,\"Chess\")\n",
        "print(C.age)"
      ]
    },
    {
      "cell_type": "code",
      "execution_count": null,
      "id": "0a64024d",
      "metadata": {
        "id": "0a64024d",
        "outputId": "09e23b69-ca21-4118-c938-cbd671aefe1d"
      },
      "outputs": [
        {
          "name": "stdout",
          "output_type": "stream",
          "text": [
            "Chess\n"
          ]
        }
      ],
      "source": [
        "print(C.hobby)"
      ]
    },
    {
      "cell_type": "code",
      "execution_count": null,
      "id": "65393d2e",
      "metadata": {
        "id": "65393d2e"
      },
      "outputs": [],
      "source": [
        "#Methods: Apart form sepcial method u can make your custome method\n",
        "#Example: Humans can speak , greet etc"
      ]
    },
    {
      "cell_type": "code",
      "execution_count": null,
      "id": "ea7dcf0b",
      "metadata": {
        "id": "ea7dcf0b"
      },
      "outputs": [],
      "source": [
        "class Human:\n",
        "\n",
        "\n",
        "     #I want some properties to be with every human obj\n",
        "    # Dunder-\n",
        "    # constructor\n",
        "    def __init__(self,name,age,hobby):\n",
        "\n",
        "        # These are known as attribute of an object\n",
        "        self.name = name\n",
        "        self.age = age\n",
        "       # self.alive = alive\n",
        "        self.hobby = hobby\n",
        "\n",
        "\n",
        "\n",
        "\n",
        "        # Methods\n",
        "\n",
        "    def greeting(self):\n",
        "            print(f\"Hey my name is {self.name}. Good morning !!\")\n",
        "\n",
        "\n",
        "\n"
      ]
    },
    {
      "cell_type": "code",
      "execution_count": null,
      "id": "5da167c0",
      "metadata": {
        "id": "5da167c0",
        "outputId": "7ccc6968-59ee-4253-d975-4623a5dd0417"
      },
      "outputs": [
        {
          "data": {
            "text/plain": [
              "'Niharika'"
            ]
          },
          "execution_count": 120,
          "metadata": {},
          "output_type": "execute_result"
        }
      ],
      "source": [
        "P= Human(\"Niharika\",34,\"Chess\")\n",
        "P.name"
      ]
    },
    {
      "cell_type": "code",
      "execution_count": null,
      "id": "a15ce623",
      "metadata": {
        "id": "a15ce623",
        "outputId": "7ad69640-194e-4696-8ae1-e9cc15190a3c"
      },
      "outputs": [
        {
          "name": "stdout",
          "output_type": "stream",
          "text": [
            "Hey my name is Niharika. Good morning !!\n"
          ]
        }
      ],
      "source": [
        "P.greeting()"
      ]
    },
    {
      "cell_type": "code",
      "execution_count": null,
      "id": "ffdb0568",
      "metadata": {
        "id": "ffdb0568",
        "outputId": "b54589c7-0f8e-4978-a765-1fca30997cbc"
      },
      "outputs": [
        {
          "data": {
            "text/plain": [
              "34"
            ]
          },
          "execution_count": 93,
          "metadata": {},
          "output_type": "execute_result"
        }
      ],
      "source": [
        "P.age"
      ]
    },
    {
      "cell_type": "code",
      "execution_count": null,
      "id": "e2bce342",
      "metadata": {
        "id": "e2bce342"
      },
      "outputs": [],
      "source": [
        "class Employee (Human):\n",
        "    pass"
      ]
    },
    {
      "cell_type": "code",
      "execution_count": null,
      "id": "7edb2e9e",
      "metadata": {
        "id": "7edb2e9e",
        "outputId": "b96003e0-c5d4-4e3c-c318-c8c831f1ed14"
      },
      "outputs": [
        {
          "ename": "TypeError",
          "evalue": "Human.__init__() missing 1 required positional argument: 'hobby'",
          "output_type": "error",
          "traceback": [
            "\u001b[1;31m---------------------------------------------------------------------------\u001b[0m",
            "\u001b[1;31mTypeError\u001b[0m                                 Traceback (most recent call last)",
            "Cell \u001b[1;32mIn[134], line 1\u001b[0m\n\u001b[1;32m----> 1\u001b[0m e1 \u001b[38;5;241m=\u001b[39m Employee (\u001b[38;5;124m\"\u001b[39m\u001b[38;5;124mMark\u001b[39m\u001b[38;5;124m\"\u001b[39m,\u001b[38;5;241m34\u001b[39m)\n",
            "\u001b[1;31mTypeError\u001b[0m: Human.__init__() missing 1 required positional argument: 'hobby'"
          ]
        }
      ],
      "source": [
        "e1 = Employee (\"Mark\",34)"
      ]
    },
    {
      "cell_type": "code",
      "execution_count": null,
      "id": "daabce51",
      "metadata": {
        "id": "daabce51",
        "outputId": "019fb288-a8ac-4f74-b60a-11d5b44efe2f"
      },
      "outputs": [
        {
          "data": {
            "text/plain": [
              "'Cricket'"
            ]
          },
          "execution_count": 111,
          "metadata": {},
          "output_type": "execute_result"
        }
      ],
      "source": [
        "P.hobby"
      ]
    },
    {
      "cell_type": "code",
      "execution_count": null,
      "id": "2e9fe8f3",
      "metadata": {
        "id": "2e9fe8f3",
        "outputId": "03015fd8-c68c-403a-9326-84e68386cac5"
      },
      "outputs": [
        {
          "ename": "IndentationError",
          "evalue": "unexpected indent (1012814349.py, line 22)",
          "output_type": "error",
          "traceback": [
            "\u001b[1;36m  Cell \u001b[1;32mIn[124], line 22\u001b[1;36m\u001b[0m\n\u001b[1;33m    def greeting(self):\u001b[0m\n\u001b[1;37m    ^\u001b[0m\n\u001b[1;31mIndentationError\u001b[0m\u001b[1;31m:\u001b[0m unexpected indent\n"
          ]
        }
      ],
      "source": [
        "class Human:\n",
        "\n",
        "    #class variable\n",
        "    population = 0\n",
        "    data = []\n",
        "\n",
        "    #constructor\n",
        "\n",
        "    def __init__(self,name,age,alive= True):\n",
        "\n",
        "        # These are known as attribute of an object\n",
        "        self.name = name\n",
        "        self.age = age\n",
        "        self.alive = alive\n",
        "\n",
        "        #Increment poplutation for every new human object\n",
        "        Human.population += 1\n",
        "        Human.data.append(self.name)\n",
        "\n",
        "        #Methods\n",
        "\n",
        "            def greeting(self):\n",
        "            print(f\"Hey my name is {self.name}. Good morning !!\")\n",
        "\n",
        "            def dead(self):\n",
        "                if self.alive:\n",
        "                print(self.name \"is no more now\")\n",
        "                 Human.population -= 1\n",
        "                    self.alive = False\n",
        "                    else:\n",
        "                        print(\"This person is already dead\")\n",
        "\n",
        "                    def child (self,number):\n",
        "                        Human.population += number\n",
        "\n",
        ""
      ]
    },
    {
      "cell_type": "code",
      "execution_count": null,
      "id": "1b238016",
      "metadata": {
        "id": "1b238016"
      },
      "outputs": [],
      "source": [
        "class Employee (Human):\n",
        "      def __init__(self,name,age,company ,post ):\n",
        "            super().__init__(name,age)\n",
        "            self.company=company\n",
        "            self.post = post\n",
        "\n",
        "            def hire (self,person):\n",
        "                print(f\"{person} has been hired in our company\")\n",
        "                Human.data.append(person)\n",
        "                Human.population += 1"
      ]
    },
    {
      "cell_type": "code",
      "execution_count": null,
      "id": "ee550250",
      "metadata": {
        "id": "ee550250",
        "outputId": "605d8bbd-530d-4f1f-dc45-dc5de407dcc5"
      },
      "outputs": [
        {
          "ename": "TypeError",
          "evalue": "Human.__init__() missing 1 required positional argument: 'hobby'",
          "output_type": "error",
          "traceback": [
            "\u001b[1;31m---------------------------------------------------------------------------\u001b[0m",
            "\u001b[1;31mTypeError\u001b[0m                                 Traceback (most recent call last)",
            "Cell \u001b[1;32mIn[136], line 1\u001b[0m\n\u001b[1;32m----> 1\u001b[0m niha \u001b[38;5;241m=\u001b[39m Human(\u001b[38;5;124m\"\u001b[39m\u001b[38;5;124mPiyush\u001b[39m\u001b[38;5;124m\"\u001b[39m,\u001b[38;5;241m25\u001b[39m)\n\u001b[0;32m      2\u001b[0m emma \u001b[38;5;241m=\u001b[39m Human(\u001b[38;5;124m\"\u001b[39m\u001b[38;5;124mNidhi\u001b[39m\u001b[38;5;124m\"\u001b[39m,\u001b[38;5;241m29\u001b[39m)\n",
            "\u001b[1;31mTypeError\u001b[0m: Human.__init__() missing 1 required positional argument: 'hobby'"
          ]
        }
      ],
      "source": [
        "niha = Human(\"Piyush\",25)\n",
        "emma = Human(\"Nidhi\",29)"
      ]
    },
    {
      "cell_type": "code",
      "execution_count": null,
      "id": "e16b35a8",
      "metadata": {
        "id": "e16b35a8"
      },
      "outputs": [],
      "source": [
        "# Function level polymorphism\n",
        "#len\n",
        "#sum\n",
        "#custom"
      ]
    },
    {
      "cell_type": "code",
      "execution_count": null,
      "id": "dbfd041e",
      "metadata": {
        "id": "dbfd041e"
      },
      "outputs": [],
      "source": [
        "l = [1,2,3,4]"
      ]
    },
    {
      "cell_type": "code",
      "execution_count": null,
      "id": "6621cb09",
      "metadata": {
        "id": "6621cb09",
        "outputId": "f9b878b3-c300-4293-a152-f266166b3dbc"
      },
      "outputs": [
        {
          "data": {
            "text/plain": [
              "4"
            ]
          },
          "execution_count": 140,
          "metadata": {},
          "output_type": "execute_result"
        }
      ],
      "source": [
        "len(l)"
      ]
    },
    {
      "cell_type": "code",
      "execution_count": null,
      "id": "89657315",
      "metadata": {
        "id": "89657315"
      },
      "outputs": [],
      "source": [
        "def mul(*args):\n",
        "\n",
        "    total=1\n",
        "    for i in args:\n",
        "        total *=i\n",
        "\n",
        "        return total"
      ]
    },
    {
      "cell_type": "code",
      "execution_count": null,
      "id": "6ca872ab",
      "metadata": {
        "id": "6ca872ab",
        "outputId": "18a6c0fe-a585-4555-8b69-dc764c4b6f0f"
      },
      "outputs": [
        {
          "data": {
            "text/plain": [
              "1"
            ]
          },
          "execution_count": 143,
          "metadata": {},
          "output_type": "execute_result"
        }
      ],
      "source": [
        "mul(1)"
      ]
    },
    {
      "cell_type": "code",
      "execution_count": null,
      "id": "54eacf36",
      "metadata": {
        "id": "54eacf36",
        "outputId": "710244dc-a534-482d-88de-b03bd6f9f1b2"
      },
      "outputs": [
        {
          "data": {
            "text/plain": [
              "3"
            ]
          },
          "execution_count": 147,
          "metadata": {},
          "output_type": "execute_result"
        }
      ],
      "source": [
        "mul(3,3)"
      ]
    },
    {
      "cell_type": "code",
      "execution_count": null,
      "id": "954d4f4e",
      "metadata": {
        "id": "954d4f4e"
      },
      "outputs": [],
      "source": [
        "#File handing in Python opening a file : open returns a file handle\n",
        "# In order to perform any kind of operation on file first we open it"
      ]
    },
    {
      "cell_type": "code",
      "execution_count": null,
      "id": "1e8213ed",
      "metadata": {
        "id": "1e8213ed"
      },
      "outputs": [],
      "source": [
        "# Modes of opening a file\n",
        "#'r' read only,'w' write only,'a'appending data end of the file,'wt'write text,'wb'write binary,'rb'read binary,'rt'read text"
      ]
    },
    {
      "cell_type": "code",
      "execution_count": null,
      "id": "16b9f6ee",
      "metadata": {
        "id": "16b9f6ee"
      },
      "outputs": [],
      "source": [
        "# Try and Except: try: this block  handle your code if any exits.\n",
        "#Except: This block gives the output that you want to show if your code is faulty"
      ]
    },
    {
      "cell_type": "code",
      "execution_count": null,
      "id": "1b98da00",
      "metadata": {
        "id": "1b98da00",
        "outputId": "fb052525-300a-41a3-a357-92e19818512a"
      },
      "outputs": [
        {
          "name": "stdout",
          "output_type": "stream",
          "text": [
            "I got error\n",
            "Hi Niharika\n"
          ]
        }
      ],
      "source": [
        "# try\n",
        "a=5\n",
        "b=0\n",
        "try:\n",
        "    print( a/b)\n",
        "except:\n",
        "    print(\"I got error\")\n",
        "    print (\"Hi Niharika\")"
      ]
    },
    {
      "cell_type": "code",
      "execution_count": null,
      "id": "a5554b0d",
      "metadata": {
        "id": "a5554b0d",
        "outputId": "ff9186de-62b5-4577-eb8d-24c3d6c7cf5f"
      },
      "outputs": [
        {
          "name": "stdout",
          "output_type": "stream",
          "text": [
            "error can only concatenate str (not \"int\") to str\n",
            "Hi Niharika\n"
          ]
        }
      ],
      "source": [
        "# except\n",
        "a=5\n",
        "b=0\n",
        "try:\n",
        "    print( \"2\"+ 2)\n",
        "except Exception as e:\n",
        "    print(\"error\",e)\n",
        "    print (\"Hi Niharika\")\n"
      ]
    },
    {
      "cell_type": "code",
      "execution_count": null,
      "id": "24b40431",
      "metadata": {
        "id": "24b40431"
      },
      "outputs": [],
      "source": [
        "# Finally\n",
        "#This block will be executed at any place.\n",
        "# it will helpfull if you want to de-allocate resources\n",
        "# like closing a fil or db connection"
      ]
    },
    {
      "cell_type": "code",
      "execution_count": null,
      "id": "35c0c25f",
      "metadata": {
        "id": "35c0c25f",
        "outputId": "16b18410-87c9-4457-a5c9-a7dc0285d053"
      },
      "outputs": [
        {
          "name": "stdout",
          "output_type": "stream",
          "text": [
            "open file\n",
            "2.5\n",
            "close file\n",
            "Hi Niharika\n"
          ]
        }
      ],
      "source": [
        "a=5\n",
        "b=2\n",
        "try:\n",
        "    print(\"open file\")\n",
        "    print(a/b)\n",
        "    print(\"close file\")\n",
        "except Exception as e:\n",
        "    print(\"error\",e)\n",
        "finally :\n",
        "    print (\"Hi Niharika\")\n"
      ]
    },
    {
      "cell_type": "code",
      "execution_count": null,
      "id": "481f01a9",
      "metadata": {
        "id": "481f01a9"
      },
      "outputs": [],
      "source": []
    }
  ],
  "metadata": {
    "kernelspec": {
      "display_name": "Python 3 (ipykernel)",
      "language": "python",
      "name": "python3"
    },
    "language_info": {
      "codemirror_mode": {
        "name": "ipython",
        "version": 3
      },
      "file_extension": ".py",
      "mimetype": "text/x-python",
      "name": "python",
      "nbconvert_exporter": "python",
      "pygments_lexer": "ipython3",
      "version": "3.11.4"
    },
    "colab": {
      "provenance": [],
      "include_colab_link": true
    }
  },
  "nbformat": 4,
  "nbformat_minor": 5
}